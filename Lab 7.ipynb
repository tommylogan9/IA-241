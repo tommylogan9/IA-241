{
 "cells": [
  {
   "cell_type": "markdown",
   "metadata": {},
   "source": [
    "# Lab 7"
   ]
  },
  {
   "cell_type": "markdown",
   "metadata": {},
   "source": [
    "### Question 1"
   ]
  },
  {
   "cell_type": "markdown",
   "metadata": {},
   "source": [
    "Company: G4S\n",
    "\n",
    "\n",
    "Description: Conduct correlation, trending analysis and benchmarking of facilities using statistical data harvested in G4S incident and case management platform Risk 360. Correlate related data and produce strategic level consumable finished intelligence products summaries, and populate various databases, in the areas of risk, threats, business intelligence, travel, etc. \n",
    "\n",
    "Provide regular concise reporting on risk-based findings identified in G4S incident and case management platform Risk 360 \n",
    "\n",
    "Integrate Risk 360 data with external data collected through situational awareness platforms and provide timely actionable intelligence and reporting to support operations and clients \n",
    "\n",
    "Identify and communicate daily all critical items requiring the attention of management and coordinate with Risk Operations team to provide necessary documentation in support of client needs \n",
    "Adeptly identify and evaluate sources of information for validity and relevance to reduce uncertainty and fill intelligence gaps \n",
    "\n",
    "Anticipate changing security needs by keeping abreast of emerging trends and threat intelligence \n",
    "\n",
    "Constantly evaluate established standards and emerging threats to ensure adequate protection of company assets. \n",
    "\n",
    "Write concise and accurate intelligence threat assessment reports \n",
    "\n",
    "Collaborate and liaise with both G4S and client staff to collate the essential elements of intelligence to develop and provide a comprehensive view of the whole risk, threat or business landscape \n",
    "\n",
    "Proof-read briefings, white papers, executive summaries, attend meetings and perform other tasks that communicate and execute plans for the Operations Center Supervisor \n",
    "\n",
    "Perform other intelligence related duties as assigned \n",
    "\n",
    "Mentor and provide guidance to junior team members\n",
    "\n",
    "\n",
    "[job website](https://www.indeed.com/q-Intelligence-Analyst-jobs.html?advn=5345394916184583&vjk=cd8bdc83a703a715)\n"
   ]
  },
  {
   "cell_type": "markdown",
   "metadata": {},
   "source": [
    "### Question 2"
   ]
  },
  {
   "cell_type": "code",
   "execution_count": 10,
   "metadata": {},
   "outputs": [
    {
     "name": "stdout",
     "output_type": "stream",
     "text": [
      "and 55\n",
      "to 34\n",
      "the 20\n",
      "of 17\n",
      "a 14\n",
      "in 14\n",
      "or 13\n",
      "intelligence 12\n",
      "G4S 11\n",
      "as 10\n",
      "be 9\n",
      "an 8\n",
      "will 8\n",
      "you 7\n",
      "with 7\n",
      "Must 7\n",
      "for 6\n",
      "provide 6\n",
      "on 6\n",
      "by 6\n"
     ]
    }
   ],
   "source": [
    "from collections import Counter\n",
    "with open ('job_posting.txt','r') as job_posting:\n",
    "    job_posting_list = job_posting.read().split()\n",
    "    \n",
    "    count_result = Counter(job_posting_list)\n",
    "    \n",
    "    for word, count in count_result.most_common(20):\n",
    "        print(word, count)"
   ]
  },
  {
   "cell_type": "markdown",
   "metadata": {},
   "source": [
    "### Question 3"
   ]
  },
  {
   "cell_type": "code",
   "execution_count": 13,
   "metadata": {},
   "outputs": [],
   "source": [
    "import xlwt\n",
    "\n",
    "from collections import Counter\n",
    "\n",
    "book = xlwt.Workbook()\n",
    "sheet = book.add_sheet('word_count')\n",
    "i = 0\n",
    "sheet.write(0,0,'word')\n",
    "sheet.write(0,1,'count')\n",
    "with open ('job_posting.txt','r') as job_posting:\n",
    "    job_posting_list = job_posting.read().split()\n",
    "    count_result = Counter(job_posting_list)\n",
    "    for word, count in count_result.most_common(20):\n",
    "        if i >0:\n",
    "            sheet.write(i,0,word)\n",
    "            sheet.write(i,1,count)\n",
    "        i = i+1\n",
    "book.save('word_count.xls')"
   ]
  },
  {
   "cell_type": "markdown",
   "metadata": {},
   "source": [
    "### Question 4"
   ]
  },
  {
   "cell_type": "code",
   "execution_count": null,
   "metadata": {},
   "outputs": [],
   "source": [
    "if (html_str):\n",
    "    "
   ]
  },
  {
   "cell_type": "markdown",
   "metadata": {},
   "source": [
    "### Question 5"
   ]
  },
  {
   "cell_type": "code",
   "execution_count": null,
   "metadata": {},
   "outputs": [],
   "source": []
  }
 ],
 "metadata": {
  "kernelspec": {
   "display_name": "Python 3",
   "language": "python",
   "name": "python3"
  },
  "language_info": {
   "codemirror_mode": {
    "name": "ipython",
    "version": 3
   },
   "file_extension": ".py",
   "mimetype": "text/x-python",
   "name": "python",
   "nbconvert_exporter": "python",
   "pygments_lexer": "ipython3",
   "version": "3.6.5"
  }
 },
 "nbformat": 4,
 "nbformat_minor": 2
}
