{
 "cells": [
  {
   "cell_type": "markdown",
   "metadata": {},
   "source": [
    "# Lab 9"
   ]
  },
  {
   "cell_type": "markdown",
   "metadata": {},
   "source": [
    "## Step 1"
   ]
  },
  {
   "cell_type": "code",
   "execution_count": 28,
   "metadata": {},
   "outputs": [
    {
     "name": "stdout",
     "output_type": "stream",
     "text": [
      "[159900.0, 1100000.0, 182000.0, 169900.0, 148500.0, 444900.0, 178000.0, 209000.0, 349900.0, 1100000.0, 239000.0, 149900.0, 294900.0, 625000.0, 309900.0, 179900.0, 339900.0, 134900.0, 359000.0, 529900.0, 149900.0, 394000.0, 229900.0, 439000.0, 146900.0, 174900.0, 445000.0, 659000.0, 429000.0, 429000.0]\n",
      "[1.0, 1.0, 2.0, 1.0, 1.0, 6.0, 2.0, 2.0, 2.0, 2.0, 3.0, 2.0, 2.0, 6.0, 3.0, 2.0, 3.0, 2.0, 4.0, 5.0, 3.0, 2.0, 2.0, 4.0, 3.0, 3.0, 4.0, 4.0, 5.0, 4.0]\n",
      "[' single-family home', ' single-family home', ' condo', ' single-family home', ' single-family home', ' single-family home', ' single-family home', ' single-family home', ' single-family home', ' single-family home', ' single-family home', ' single-family home', ' single-family home', ' single-family home', ' single-family home', ' single-family home', ' single-family home', ' townhouse', ' single-family home', ' single-family home', ' townhouse', ' single-family home', ' single-family home', ' single-family home', ' condo', ' single-family home', ' single-family home', ' single-family home', ' single-family home', ' single-family home']\n",
      "[5662.0, 4138200.0, 7405.0, 36155.0, 9147.0, 28314.0, 11326.0, 9147.0, 204732.0, 4356000.0, 12197.0, 8712.0, 30928.0, 14810.0, 15246.0, 13068.0, 14375.0, 2300.0, 10130.0, 19166.0, 2291.0, 18295.0, 10018.0, 18731.0, 2178.0, 2469.0, 21780.0, 21780.0, 7405.0, 22651.0]\n",
      "[1924.0, 1932.0, 1945.0, 1950.0, 1959.0, 1961.0, 1964.0, 1966.0, 1967.0, 1970.0, 1972.0, 1975.0, 1978.0, 1985.0, 1986.0, 1988.0, 1993.0, 1994.0, 1997.0, 1998.0, 1999.0, 2001.0, 2002.0, 2005.0, 2006.0, 2007.0, 2010.0, 2014.0, 2017.0, 2018.0]\n",
      "[1584.0, 900.0, 1622.0, 1556.0, 1000.0, 5201.0, 1188.0, 1918.0, 3850.0, 2541.0, 2210.0, 1810.0, 3150.0, 5299.0, 2136.0, 1237.0, 2003.0, 920.0, 2903.0, 5202.0, 1440.0, 2616.0, 1541.0, 3819.0, 1276.0, 1344.0, 3504.0, 5156.0, 2799.0, 3145.0]\n"
     ]
    }
   ],
   "source": [
    "import xlrd\n",
    "\n",
    "book = xlrd.open_workbook('house_price.xls')\n",
    "\n",
    "sheet = book.sheet_by_name('price')\n",
    "\n",
    "price_list = []\n",
    "bath_list = []\n",
    "htype_list = []\n",
    "lot_size_list = []\n",
    "year_list = []\n",
    "area_list = []\n",
    "for i in range(sheet.nrows):\n",
    "    price,bath,htype,lot_size,year,area = sheet.row_values(i)\n",
    "    row = sheet.row_values(i)\n",
    "    if i !=0:\n",
    "     ##   print(price,bath,htype,lot_size,year,area)\n",
    "        price_list.append(price)\n",
    "        bath_list.append(bath)\n",
    "        htype_list.append(htype)\n",
    "        lot_size_list.append(lot_size)\n",
    "        year_list.append(year)\n",
    "        area_list.append(area)\n",
    "print(price_list)\n",
    "print(bath_list)\n",
    "print(htype_list)\n",
    "print(lot_size_list)\n",
    "print(year_list)\n",
    "print(area_list)"
   ]
  },
  {
   "cell_type": "code",
   "execution_count": null,
   "metadata": {},
   "outputs": [],
   "source": []
  },
  {
   "cell_type": "markdown",
   "metadata": {},
   "source": [
    "# Step 2"
   ]
  },
  {
   "cell_type": "code",
   "execution_count": 29,
   "metadata": {},
   "outputs": [
    {
     "name": "stdout",
     "output_type": "stream",
     "text": [
      "the mean of price is 356700.0\n",
      "the median of price is 302400.0\n",
      "the std of price is 245840.21233313315\n"
     ]
    }
   ],
   "source": [
    "print(\"the mean of {} is {}\".format('price',np.mean(price_list)))\n",
    "print(\"the median of {} is {}\".format('price',np.median(price_list)))\n",
    "print(\"the std of {} is {}\".format('price',np.std(price_list)))"
   ]
  },
  {
   "cell_type": "markdown",
   "metadata": {},
   "source": [
    "## Step 3"
   ]
  },
  {
   "cell_type": "code",
   "execution_count": 65,
   "metadata": {},
   "outputs": [
    {
     "name": "stdout",
     "output_type": "stream",
     "text": [
      "the correlation price and bath is 0.2278999173038209\n"
     ]
    }
   ],
   "source": [
    "print(\"the correlation price and bath is {}\".format((np.corrcoef(price_list,bath_list)[0][1])))"
   ]
  },
  {
   "cell_type": "code",
   "execution_count": 66,
   "metadata": {},
   "outputs": [
    {
     "name": "stdout",
     "output_type": "stream",
     "text": [
      "the correlation price and lot size is 0.8106869237150935\n"
     ]
    }
   ],
   "source": [
    "print(\"the correlation price and lot size is {}\".format((np.corrcoef(price_list,lot_size_list)[0][1])))"
   ]
  },
  {
   "cell_type": "code",
   "execution_count": 67,
   "metadata": {},
   "outputs": [
    {
     "name": "stdout",
     "output_type": "stream",
     "text": [
      "the correlation price and year is -0.038346537078653466\n"
     ]
    }
   ],
   "source": [
    "print(\"the correlation price and year is {}\".format((np.corrcoef(price_list,year_list)[0][1])))"
   ]
  },
  {
   "cell_type": "code",
   "execution_count": 68,
   "metadata": {},
   "outputs": [
    {
     "name": "stdout",
     "output_type": "stream",
     "text": [
      "the correlation price and area is 0.407551408717802\n"
     ]
    }
   ],
   "source": [
    "print(\"the correlation price and area is {}\".format((np.corrcoef(price_list,area_list)[0][1])))"
   ]
  },
  {
   "cell_type": "markdown",
   "metadata": {},
   "source": [
    "The highest correlation with price is lot size"
   ]
  },
  {
   "cell_type": "markdown",
   "metadata": {},
   "source": [
    "## Step 4"
   ]
  },
  {
   "cell_type": "code",
   "execution_count": 36,
   "metadata": {},
   "outputs": [],
   "source": [
    "from scipy import stats\n",
    "\n"
   ]
  },
  {
   "cell_type": "code",
   "execution_count": 72,
   "metadata": {},
   "outputs": [
    {
     "name": "stdout",
     "output_type": "stream",
     "text": [
      "0.025387094399552994\n",
      "74.37646603912873\n",
      "171081.13292168107\n",
      "0.3303965977891875\n"
     ]
    }
   ],
   "source": [
    "result1 = stats.linregress(area_list,price_list)\n",
    "\n",
    "print(result1.pvalue)\n",
    "print(result1.slope)\n",
    "print(result1.intercept)\n",
    "print(result.rvalue * result1.rvalue)"
   ]
  },
  {
   "cell_type": "markdown",
   "metadata": {},
   "source": [
    "price = 74.38x area + 171081"
   ]
  },
  {
   "cell_type": "code",
   "execution_count": 73,
   "metadata": {},
   "outputs": [
    {
     "name": "stdout",
     "output_type": "stream",
     "text": [
      "0.8405564564153876\n",
      "-382.3268717298298\n",
      "1114764.977036849\n",
      "-0.01562818520585464\n"
     ]
    }
   ],
   "source": [
    "result2 = stats.linregress(year_list,price_list)\n",
    "\n",
    "print(result2.pvalue)\n",
    "print(result2.slope)\n",
    "print(result2.intercept)\n",
    "print(result2.rvalue * result1.rvalue)"
   ]
  },
  {
   "cell_type": "markdown",
   "metadata": {},
   "source": [
    "price = -382.33 year + 1114764.98"
   ]
  },
  {
   "cell_type": "code",
   "execution_count": 76,
   "metadata": {},
   "outputs": [
    {
     "name": "stdout",
     "output_type": "stream",
     "text": [
      "0.22580469278106366\n",
      "40480.85846867748\n",
      "240654.87238979124\n",
      "0.09288093234384273\n"
     ]
    }
   ],
   "source": [
    "result3 = stats.linregress(bath_list,price_list)\n",
    "\n",
    "print(result3.pvalue)\n",
    "print(result3.slope)\n",
    "print(result3.intercept)\n",
    "print(result3.rvalue * result1.rvalue)"
   ]
  },
  {
   "cell_type": "markdown",
   "metadata": {},
   "source": [
    "price = 40480 bath + 240654.87"
   ]
  },
  {
   "cell_type": "markdown",
   "metadata": {},
   "source": [
    "## Step 5"
   ]
  },
  {
   "cell_type": "code",
   "execution_count": 77,
   "metadata": {},
   "outputs": [
    {
     "name": "stdout",
     "output_type": "stream",
     "text": [
      "price of house with 2000 sqft is $319834.06499993854\n"
     ]
    }
   ],
   "source": [
    "print('price of house with 2000 sqft is ${}'.format(result1.slope*2000+result1.intercept))"
   ]
  },
  {
   "cell_type": "code",
   "execution_count": 78,
   "metadata": {},
   "outputs": [
    {
     "name": "stdout",
     "output_type": "stream",
     "text": [
      "price of house built in 2000 is $350111.23357718927\n"
     ]
    }
   ],
   "source": [
    "print('price of house built in 2000 is ${}'.format(result2.slope*2000+result2.intercept))"
   ]
  },
  {
   "cell_type": "code",
   "execution_count": 79,
   "metadata": {},
   "outputs": [
    {
     "name": "stdout",
     "output_type": "stream",
     "text": [
      "price of house with 4 bathrooms is $402578.3062645012\n"
     ]
    }
   ],
   "source": [
    "print('price of house with 4 bathrooms is ${}'.format(result3.slope*4+result3.intercept))"
   ]
  },
  {
   "cell_type": "code",
   "execution_count": null,
   "metadata": {},
   "outputs": [],
   "source": []
  }
 ],
 "metadata": {
  "kernelspec": {
   "display_name": "Python 3",
   "language": "python",
   "name": "python3"
  },
  "language_info": {
   "codemirror_mode": {
    "name": "ipython",
    "version": 3
   },
   "file_extension": ".py",
   "mimetype": "text/x-python",
   "name": "python",
   "nbconvert_exporter": "python",
   "pygments_lexer": "ipython3",
   "version": "3.6.5"
  }
 },
 "nbformat": 4,
 "nbformat_minor": 2
}
