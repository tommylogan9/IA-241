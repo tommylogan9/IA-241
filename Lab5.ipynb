{
 "cells": [
  {
   "cell_type": "markdown",
   "metadata": {},
   "source": [
    "# Lab 5"
   ]
  },
  {
   "cell_type": "code",
   "execution_count": 1,
   "metadata": {},
   "outputs": [],
   "source": [
    "from urllib import request\n",
    "\n",
    "import json\n",
    "\n",
    "from pprint import pprint"
   ]
  },
  {
   "cell_type": "code",
   "execution_count": 2,
   "metadata": {},
   "outputs": [],
   "source": [
    "census_api_key = 'a825e46c41a09563b9142bd5f115d75aba5762c9' #get your key from https://api.census.gov/data/key_signup.html"
   ]
  },
  {
   "cell_type": "code",
   "execution_count": 73,
   "metadata": {},
   "outputs": [],
   "source": [
    "url_str = 'https://api.census.gov/data/2017/acs/acs5?get=B01001_002E,B01001_001E,NAME&for=county:*&in=state:51&key='+census_api_key # create the url of your census data\n"
   ]
  },
  {
   "cell_type": "code",
   "execution_count": 74,
   "metadata": {},
   "outputs": [
    {
     "name": "stdout",
     "output_type": "stream",
     "text": [
      "https://api.census.gov/data/2017/acs/acs5?get=B01001_002E,B01001_001E,NAME&for=county:*&in=state:51&key=a825e46c41a09563b9142bd5f115d75aba5762c9\n"
     ]
    }
   ],
   "source": [
    "print(url_str)"
   ]
  },
  {
   "cell_type": "code",
   "execution_count": 75,
   "metadata": {},
   "outputs": [],
   "source": [
    "response = request.urlopen(url_str) # read the response into computer\n",
    "html_str = response.read().decode(\"utf-8\") # convert the response into string"
   ]
  },
  {
   "cell_type": "code",
   "execution_count": 76,
   "metadata": {},
   "outputs": [
    {
     "name": "stdout",
     "output_type": "stream",
     "text": [
      "[[\"B01001_002E\",\"B01001_001E\",\"NAME\",\"state\",\"county\"],\n",
      "[\"3437\",\"7022\",\"Charles City County, Virginia\",\"51\",\"036\"],\n",
      "[\"25057\",\"49795\",\"Culpeper County, Virginia\",\"51\",\"047\"],\n",
      "[\"13849\",\"28033\",\"Dinwiddie County, Virginia\",\"51\",\"053\"],\n",
      "[\"9387\",\"19213\",\"Greene County, Virginia\",\"51\",\"079\"],\n",
      "[\"50653\",\"103218\",\"Hanover County, Virginia\",\"51\",\"085\"],\n",
      "[\"6367\",\"12369\",\"Lunenburg County, Virginia\",\"51\",\"111\"],\n",
      "[\"17341\",\"35265\",\"Orange County, Virginia\",\"51\",\"137\"],\n",
      "[\"2488\",\"5495\",\"Emporia city, Virginia\",\"51\",\"595\"],\n",
      "[\"14200\",\"29048\",\"Wythe County, Virginia\",\"51\",\"197\"],\n",
      "[\"114935\",\"235410\",\"Chesapeake city, Virginia\",\"51\",\"550\"],\n",
      "[\"8108\",\"17582\",\"Colonial Heights city, Virginia\",\"51\",\"570\"],\n",
      "[\"25414\",\"53064\",\"Harrisonburg city, Virginia\",\"51\",\"660\"],\n",
      "[\"50283\",\"105105\",\"Albemarle County, Virginia\",\"51\",\"003\"],\n",
      "[\"3617\",\"6524\",\"Bland County, Virginia\",\"51\",\"021\"],\n",
      "[\"38012\",\"77319\",\"Bedford County, Virginia\",\"51\",\"019\"],\n",
      "[\"16421\",\"33149\",\"Botetourt County, Virginia\",\"51\",\"023\"],\n",
      "[\"9465\",\"17048\",\"Buckingham County, Virginia\",\"51\",\"029\"],\n",
      "[\"20612\",\"39539\",\"Wise County, Virginia\",\"51\",\"195\"],\n",
      "[\"7974\",\"17077\",\"Bristol city, Virginia\",\"51\",\"520\"],\n",
      "[\"2876\",\"5675\",\"Covington city, Virginia\",\"51\",\"580\"],\n",
      "[\"46070\",\"95536\",\"Portsmouth city, Virginia\",\"51\",\"740\"],\n",
      "[\"6829\",\"14817\",\"Williamsburg city, Virginia\",\"51\",\"830\"],\n",
      "[\"221350\",\"450057\",\"Virginia Beach city, Virginia\",\"51\",\"810\"],\n",
      "[\"7586\",\"15489\",\"Alleghany County, Virginia\",\"51\",\"005\"],\n",
      "[\"14993\",\"29767\",\"Carroll County, Virginia\",\"51\",\"035\"],\n",
      "[\"3304\",\"6788\",\"Galax city, Virginia\",\"51\",\"640\"],\n",
      "[\"26857\",\"54457\",\"Washington County, Virginia\",\"51\",\"191\"],\n",
      "[\"8646\",\"17596\",\"Westmoreland County, Virginia\",\"51\",\"193\"],\n",
      "[\"6051\",\"12254\",\"Northumberland County, Virginia\",\"51\",\"133\"],\n",
      "[\"11638\",\"23694\",\"Page County, Virginia\",\"51\",\"139\"],\n",
      "[\"17152\",\"34330\",\"Pulaski County, Virginia\",\"51\",\"155\"],\n",
      "[\"19445\",\"38991\",\"Warren County, Virginia\",\"51\",\"187\"],\n",
      "[\"74501\",\"154710\",\"Alexandria city, Virginia\",\"51\",\"510\"],\n",
      "[\"19129\",\"41911\",\"Danville city, Virginia\",\"51\",\"590\"],\n",
      "[\"12890\",\"28135\",\"Fredericksburg city, Virginia\",\"51\",\"630\"],\n",
      "[\"65820\",\"136255\",\"Hampton city, Virginia\",\"51\",\"650\"],\n",
      "[\"15331\",\"31819\",\"Amherst County, Virginia\",\"51\",\"009\"],\n",
      "[\"114403\",\"229534\",\"Arlington County, Virginia\",\"51\",\"013\"],\n",
      "[\"2311\",\"4458\",\"Bath County, Virginia\",\"51\",\"017\"],\n",
      "[\"10342\",\"22353\",\"Hopewell city, Virginia\",\"51\",\"670\"],\n",
      "[\"11378\",\"22611\",\"Buchanan County, Virginia\",\"51\",\"027\"],\n",
      "[\"87598\",\"180775\",\"Newport News city, Virginia\",\"51\",\"700\"],\n",
      "[\"41634\",\"83784\",\"Frederick County, Virginia\",\"51\",\"069\"],\n",
      "[\"70984\",\"141159\",\"Stafford County, Virginia\",\"51\",\"179\"],\n",
      "[\"37166\",\"79237\",\"Lynchburg city, Virginia\",\"51\",\"680\"],\n",
      "[\"33024\",\"67196\",\"York County, Virginia\",\"51\",\"199\"],\n",
      "[\"104853\",\"220892\",\"Richmond city, Virginia\",\"51\",\"760\"],\n",
      "[\"6010\",\"13256\",\"Martinsville city, Virginia\",\"51\",\"690\"],\n",
      "[\"7224\",\"14863\",\"Nelson County, Virginia\",\"51\",\"125\"],\n",
      "[\"4899\",\"11083\",\"Essex County, Virginia\",\"51\",\"057\"],\n",
      "[\"30372\",\"61970\",\"Pittsylvania County, Virginia\",\"51\",\"143\"],\n",
      "[\"1694\",\"4043\",\"Norton city, Virginia\",\"51\",\"720\"],\n",
      "[\"11130\",\"24273\",\"Staunton city, Virginia\",\"51\",\"790\"],\n",
      "[\"11928\",\"26109\",\"Fluvanna County, Virginia\",\"51\",\"065\"],\n",
      "[\"6644\",\"12802\",\"Amelia County, Virginia\",\"51\",\"007\"],\n",
      "[\"8526\",\"17380\",\"Radford city, Virginia\",\"51\",\"750\"],\n",
      "[\"13444\",\"27516\",\"Winchester city, Virginia\",\"51\",\"840\"],\n",
      "[\"16079\",\"32840\",\"Accomack County, Virginia\",\"51\",\"001\"],\n",
      "[\"2525\",\"5131\",\"Craig County, Virginia\",\"51\",\"045\"],\n",
      "[\"7842\",\"15594\",\"Floyd County, Virginia\",\"51\",\"063\"],\n",
      "[\"8273\",\"16867\",\"Giles County, Virginia\",\"51\",\"071\"],\n",
      "[\"7875\",\"15708\",\"Grayson County, Virginia\",\"51\",\"077\"],\n",
      "[\"8415\",\"15537\",\"Nottoway County, Virginia\",\"51\",\"135\"],\n",
      "[\"3646\",\"7359\",\"Rappahannock County, Virginia\",\"51\",\"157\"],\n",
      "[\"21055\",\"42689\",\"Tazewell County, Virginia\",\"51\",\"185\"],\n",
      "[\"2945\",\"6495\",\"Buena Vista city, Virginia\",\"51\",\"530\"],\n",
      "[\"6801\",\"13843\",\"Falls Church city, Virginia\",\"51\",\"610\"],\n",
      "[\"8482\",\"16117\",\"Manassas Park city, Virginia\",\"51\",\"685\"],\n",
      "[\"14703\",\"32037\",\"Petersburg city, Virginia\",\"51\",\"730\"],\n",
      "[\"5864\",\"12022\",\"Poquoson city, Virginia\",\"51\",\"735\"],\n",
      "[\"7552\",\"11595\",\"Sussex County, Virginia\",\"51\",\"183\"],\n",
      "[\"11621\",\"23580\",\"Fairfax city, Virginia\",\"51\",\"600\"],\n",
      "[\"10438\",\"21620\",\"Waynesboro city, Virginia\",\"51\",\"820\"],\n",
      "[\"20675\",\"41379\",\"Manassas city, Virginia\",\"51\",\"683\"],\n",
      "[\"47736\",\"99572\",\"Roanoke city, Virginia\",\"51\",\"770\"],\n",
      "[\"11947\",\"25521\",\"Salem city, Virginia\",\"51\",\"775\"],\n",
      "[\"42594\",\"88057\",\"Suffolk city, Virginia\",\"51\",\"800\"],\n",
      "[\"128254\",\"245752\",\"Norfolk city, Virginia\",\"51\",\"710\"],\n",
      "[\"5991\",\"12176\",\"Charlotte County, Virginia\",\"51\",\"037\"],\n",
      "[\"161644\",\"335594\",\"Chesterfield County, Virginia\",\"51\",\"041\"],\n",
      "[\"565593\",\"1142004\",\"Fairfax County, Virginia\",\"51\",\"059\"],\n",
      "[\"7238\",\"11606\",\"Greensville County, Virginia\",\"51\",\"081\"],\n",
      "[\"17651\",\"36090\",\"Isle of Wight County, Virginia\",\"51\",\"093\"],\n",
      "[\"35265\",\"73028\",\"James City County, Virginia\",\"51\",\"095\"],\n",
      "[\"13563\",\"27725\",\"Russell County, Virginia\",\"51\",\"167\"],\n",
      "[\"3663\",\"8334\",\"Franklin city, Virginia\",\"51\",\"620\"],\n",
      "[\"15386\",\"31298\",\"Smyth County, Virginia\",\"51\",\"173\"],\n",
      "[\"22336\",\"46487\",\"Charlottesville city, Virginia\",\"51\",\"540\"],\n",
      "[\"3982\",\"7113\",\"Lexington city, Virginia\",\"51\",\"678\"],\n",
      "[\"26745\",\"55158\",\"Campbell County, Virginia\",\"51\",\"031\"],\n",
      "[\"153299\",\"324073\",\"Henrico County, Virginia\",\"51\",\"087\"],\n",
      "[\"25038\",\"51956\",\"Henry County, Virginia\",\"51\",\"089\"],\n",
      "[\"12839\",\"25564\",\"King George County, Virginia\",\"51\",\"099\"],\n",
      "[\"17007\",\"34813\",\"Louisa County, Virginia\",\"51\",\"109\"],\n",
      "[\"8108\",\"16329\",\"King William County, Virginia\",\"51\",\"101\"],\n",
      "[\"5013\",\"10848\",\"Lancaster County, Virginia\",\"51\",\"103\"],\n",
      "[\"12792\",\"24428\",\"Lee County, Virginia\",\"51\",\"105\"],\n",
      "[\"4229\",\"8830\",\"Mathews County, Virginia\",\"51\",\"115\"],\n",
      "[\"5279\",\"10710\",\"Middlesex County, Virginia\",\"51\",\"119\"],\n",
      "[\"11379\",\"22903\",\"Prince Edward County, Virginia\",\"51\",\"147\"],\n",
      "[\"20643\",\"37704\",\"Prince George County, Virginia\",\"51\",\"149\"],\n",
      "[\"4978\",\"8873\",\"Richmond County, Virginia\",\"51\",\"159\"],\n",
      "[\"38485\",\"78653\",\"Rockingham County, Virginia\",\"51\",\"165\"],\n",
      "[\"11191\",\"22290\",\"Scott County, Virginia\",\"51\",\"169\"],\n",
      "[\"63945\",\"130159\",\"Spotsylvania County, Virginia\",\"51\",\"177\"],\n",
      "[\"3213\",\"6670\",\"Surry County, Virginia\",\"51\",\"181\"],\n",
      "[\"7507\",\"15462\",\"Appomattox County, Virginia\",\"51\",\"011\"],\n",
      "[\"7195\",\"14331\",\"Clarke County, Virginia\",\"51\",\"043\"],\n",
      "[\"27631\",\"56277\",\"Franklin County, Virginia\",\"51\",\"067\"],\n",
      "[\"3524\",\"7052\",\"King and Queen County, Virginia\",\"51\",\"097\"],\n",
      "[\"14944\",\"30959\",\"Mecklenburg County, Virginia\",\"51\",\"117\"],\n",
      "[\"50448\",\"97692\",\"Montgomery County, Virginia\",\"51\",\"121\"],\n",
      "[\"10309\",\"20523\",\"New Kent County, Virginia\",\"51\",\"127\"],\n",
      "[\"37695\",\"74390\",\"Augusta County, Virginia\",\"51\",\"015\"],\n",
      "[\"4830\",\"9797\",\"Cumberland County, Virginia\",\"51\",\"049\"],\n",
      "[\"7720\",\"15181\",\"Dickenson County, Virginia\",\"51\",\"051\"],\n",
      "[\"10897\",\"22148\",\"Goochland County, Virginia\",\"51\",\"075\"],\n",
      "[\"16505\",\"35030\",\"Halifax County, Virginia\",\"51\",\"083\"],\n",
      "[\"185575\",\"374558\",\"Loudoun County, Virginia\",\"51\",\"107\"],\n",
      "[\"6369\",\"13108\",\"Madison County, Virginia\",\"51\",\"113\"],\n",
      "[\"224843\",\"450763\",\"Prince William County, Virginia\",\"51\",\"153\"],\n",
      "[\"44811\",\"93419\",\"Roanoke County, Virginia\",\"51\",\"161\"],\n",
      "[\"9414\",\"18089\",\"Southampton County, Virginia\",\"51\",\"175\"],\n",
      "[\"1020\",\"2213\",\"Highland County, Virginia\",\"51\",\"091\"],\n",
      "[\"8557\",\"16435\",\"Brunswick County, Virginia\",\"51\",\"025\"],\n",
      "[\"14807\",\"29889\",\"Caroline County, Virginia\",\"51\",\"033\"],\n",
      "[\"18278\",\"37035\",\"Gloucester County, Virginia\",\"51\",\"073\"],\n",
      "[\"5737\",\"11998\",\"Northampton County, Virginia\",\"51\",\"131\"],\n",
      "[\"8867\",\"17958\",\"Patrick County, Virginia\",\"51\",\"141\"],\n",
      "[\"15185\",\"28364\",\"Powhatan County, Virginia\",\"51\",\"145\"],\n",
      "[\"11143\",\"22440\",\"Rockbridge County, Virginia\",\"51\",\"163\"],\n",
      "[\"20850\",\"42854\",\"Shenandoah County, Virginia\",\"51\",\"171\"],\n",
      "[\"33858\",\"68406\",\"Fauquier County, Virginia\",\"51\",\"061\"]]\n"
     ]
    }
   ],
   "source": [
    "print (html_str)"
   ]
  },
  {
   "cell_type": "markdown",
   "metadata": {},
   "source": [
    "## 2.1"
   ]
  },
  {
   "cell_type": "code",
   "execution_count": 50,
   "metadata": {},
   "outputs": [
    {
     "name": "stdout",
     "output_type": "stream",
     "text": [
      "['B01001_001E', 'NAME', 'state', 'county']\n",
      "1142004 Fairfax County, Virginia\n"
     ]
    }
   ],
   "source": [
    "if html_str:\n",
    "    json_data = json.loads(html_str)\n",
    "    print (json_data[0])\n",
    "    max_p = 0\n",
    "    max_c = ''\n",
    "    for v1,name,state,county in json_data[1:]:\n",
    "        if max_p< int(v1):\n",
    "            max_p = int(v1)\n",
    "            max_c = name\n",
    "    print (max_p,max_c)"
   ]
  },
  {
   "cell_type": "markdown",
   "metadata": {},
   "source": [
    "## 2.2"
   ]
  },
  {
   "cell_type": "code",
   "execution_count": 54,
   "metadata": {},
   "outputs": [],
   "source": [
    "url_str = 'https://api.census.gov/data/2017/acs/acs5?get=B01001_002E,NAME&for=county:*&in=state:51&key='+census_api_key  "
   ]
  },
  {
   "cell_type": "code",
   "execution_count": 55,
   "metadata": {},
   "outputs": [
    {
     "name": "stdout",
     "output_type": "stream",
     "text": [
      "['B01001_002E', 'NAME', 'state', 'county']\n",
      "565593 Fairfax County, Virginia\n"
     ]
    }
   ],
   "source": [
    "if html_str:\n",
    "    json_data = json.loads(html_str)\n",
    "    print (json_data[0])\n",
    "    max_p = 0\n",
    "    max_c = ''\n",
    "    for v1,name,state,county in json_data[1:]:\n",
    "        if max_p< int(v1):\n",
    "            max_p = int(v1)\n",
    "            max_c = name\n",
    "    print (max_p,max_c)"
   ]
  },
  {
   "cell_type": "markdown",
   "metadata": {},
   "source": [
    "## 2.3"
   ]
  },
  {
   "cell_type": "code",
   "execution_count": 77,
   "metadata": {},
   "outputs": [],
   "source": [
    "url_str = 'https://api.census.gov/data/2017/acs/acs5?get=B01001_001E,B01001_002E,NAME&for=county:*&in=state:51&key='+census_api_key "
   ]
  },
  {
   "cell_type": "code",
   "execution_count": 85,
   "metadata": {},
   "outputs": [
    {
     "name": "stdout",
     "output_type": "stream",
     "text": [
      "['B01001_002E', 'B01001_001E', 'NAME', 'state', 'county']\n",
      "0.6513152220784821 Sussex County, Virginia\n"
     ]
    }
   ],
   "source": [
    "if html_str:\n",
    "    json_data = json.loads(html_str)\n",
    "    print (json_data[0])\n",
    "    max_p = 0\n",
    "    max_c = ''\n",
    "    for v1,v2,name,state,county in json_data[1:]:\n",
    "        if max_p< int(v1)/int(v2):\n",
    "            max_p = int(v1)/int(v2)\n",
    "            max_c = name\n",
    "    print (max_p,max_c)"
   ]
  },
  {
   "cell_type": "code",
   "execution_count": null,
   "metadata": {},
   "outputs": [],
   "source": []
  }
 ],
 "metadata": {
  "kernelspec": {
   "display_name": "Python 3",
   "language": "python",
   "name": "python3"
  },
  "language_info": {
   "codemirror_mode": {
    "name": "ipython",
    "version": 3
   },
   "file_extension": ".py",
   "mimetype": "text/x-python",
   "name": "python",
   "nbconvert_exporter": "python",
   "pygments_lexer": "ipython3",
   "version": "3.6.5"
  }
 },
 "nbformat": 4,
 "nbformat_minor": 2
}
