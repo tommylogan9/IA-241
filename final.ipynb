{
 "cells": [
  {
   "cell_type": "markdown",
   "metadata": {},
   "source": [
    "# Final 241"
   ]
  },
  {
   "cell_type": "markdown",
   "metadata": {},
   "source": [
    "## Introduction\n",
    "\n"
   ]
  },
  {
   "cell_type": "markdown",
   "metadata": {},
   "source": [
    "Data used in this project: <a href='job_postings4'>data<\\a>"
   ]
  },
  {
   "cell_type": "code",
   "execution_count": 28,
   "metadata": {},
   "outputs": [
    {
     "name": "stdout",
     "output_type": "stream",
     "text": [
      "['Data Scientist', 'Data Scientist', 'Cyber Forensic Analyst\\r', 'Intelligence Analyst', 'Intelligence Analyst', 'Business Analyst', 'Cyber Analyst', 'Intelligence Analyst Instructor', 'SIGINT Analyst', 'Program Analyst ', 'Senior Analyst', 'Intelligence Analyst', 'Program Analyst ', 'Intelligence Analyst', 'Business Analyst', 'Security Analyst', 'Cyber Analyst', 'Intelligence Analyst', 'Network Analyst', 'Business Analyst']\n",
      "['Elder Research', 'Radius Bank', 'MSI', 'Fulcrom Co.', 'Noblis', 'Arteza', 'Insight Global', 'FBI', 'BAE', 'FBI', 'ManTech', 'BSI', 'FBI', 'SPPD', 'Equifax', 'Liberty Mutual', 'GE Digital', 'ManTech', 'IBI', 'Cerner Corp']\n",
      "[43475.0, 43475.0, 43549.0, 43559.0, 43559.0, 43560.0, 43561.0, 43564.0, 43565.0, 43567.0, 43568.0, 43569.0, 43570.0, 43571.0, 43572.0, 43572.0, 43573.0, 43573.0, 43573.0, 43573.0]\n",
      "['Arlington, VA', 'Boston, MA', 'Reston, Va', 'Honolulu, HI', 'Crystal City, VA', 'Miami, FL', 'Fort Meade, MD', 'Washington, D.C.', ' McLean, VA', 'Chantilly, VA', 'Chantilly, VA', 'Scottsdale, AZ', 'Washington, D.C.', 'Saint Petersburg, FL', 'St. Louis, MO', 'Portsmouth, NH', 'Glen Allen, VA', 'Chantilly, VA', 'Toronto, Canada', 'Kansas City, MO']\n",
      "[104000.0, 97000.0, 90000.0, 72200.0, 75500.0, 75000.0, 100000.0, 111811.0, 135000.0, 83398.0, 62000.0, 62400.0, 57510.0, 44952.0, 70500.0, 108600.0, 66000.0, 84600.0, 71000.0, 49700.0]\n",
      "[]\n",
      "['We are looking to hire Data Scientists with at least 5 years of technical experience working with data and deploying analytical solutions. Qualified candidates must have a Bachelor’s of Science degree in a technical field. All applicants for cleared contracts must be a US citizen and have or be willing to apply for a Top Secret security clearance. Ideal candidates have technical skills and analytic tool experience in several of the following areas:\\nTechnical Areas: machine learning, predictive analytics, data mining, advanced analytics, statistics, workload prioritization, operations research, risk analysis, streaming analytics, anomaly detection, exploratory data analysis, ETL, event log processing, mathematical modeling, graph/network analysis, data visualization, text mining, data access, storage and retrieval\\nAnalytic Tools (or equivalent): R/Shiny, Python, SQL, IBM SPSS Modeler, Java, Pig, Spark, Oracle, RapidMiner, KNIME, Statistica, SAS, Matlab, Neo4j', 'Design and build queries, reports, and dashboards using business intelligence tools adhering to established frameworks and standards \\r\\nChampion a data-driven culture across the enterprise developing methods and controls to ensure consistent application and use of data \\r\\nActively participate in and influence discussions around reporting requirements, infrastructure needs, and design \\r\\nAssess the effectiveness and accuracy of new data sources and data gathering techniques \\r\\nDevelop custom data models and algorithms to apply to data sets ', 'Knowledge of networking fundamentals\\xa0Knowledge of software exploitation', 'Threat, indications and warning, collection, analysis, and production and collaborating with other senior intelligence analysts, reporting and briefing within USPACOM/INDO-PAC AOR Intelligence Enterprise, the U.S. Intelligence Community, and the Interagency, Intelligence programs, asymmetric analysis, PACOM/JCS training events, and PACOM country(s) familiarization ', 'Critical Thinking \\r\\nClear and Concise writing ', 'data analytics and metrics optimization', ' experience working with IDS/IPS and SIEM Tools such as Splunk, Arcsight, Wireshark ', 'Leadership, Analytical Thinking, Interpersonal Skills, Oral and Written Communication, Organizing and Planning, Problem Solving', 'HighSchool/GED Training in SIGINT analysis with a minimum of 4 years SIGINT experience within the DoD or equivalent government agencies is required, with operational-level experience preferred. Knowledge of Army/Joint SIGINT procedures, data processing systems, and associated SIGINT databases/search engines is required. Proficiency in utilizing basic computer applications, mIRC, Jabber Chat, or other intelligence-related automation in support of analytic efforts and product development is required. Strong research and writing skills are required. Requires former 1N, 35S/P/N, 35B, 352N/P/Q/R/S, 18F, or equivalent.', 'Analytic Thinking, Problem Solving, Communication', 'Knowledge of research and analysis techniques.\\r\\nAbility to effectively collect, analyze, summarize, interpret, and communicate information and technical data orally and in writing.\\r\\nProficient knowledge of personal computers, Microsoft Office applications, and analytical application programs and software to produce GIS-based maps, text, tables, graphs, and charts.\\r\\nProficient knowledge in open source research and analytical tools.\\r\\nAbility to apply critical thinking to diverse information sets and to produce logic-based analysis and recommendations on probable and potential trends and event outcomes.\\r\\nDemonstrated ability to maintain accurate and complete files, manage multiple priorities, and follow oral and written instructions.\\r\\nDemonstrated ability to establish and maintain effective working relationships with all levels of personnel and representatives of other agencies and organizations.\\r\\nDemonstrated ability to work semi-independently, establish priorities, and achieve high level results with limited direct supervision.\\r\\nDemonstrated ability to create and provide intelligence briefings for all levels of personnel.\\r\\nPublic safety experience or other broad scope governmental experience desired.\\r\\nMust have a valid driver’s license, federal security clearance at least at the Secret level, and successfully pass Fairfax County PD background check, including fingerprinting, drug screening, and polygraph examination.', 'Bilingual (English/Spanish) speaking preferred\\r\\nWorking knowledge of international trade compliance and security issues, global political systems, economies, and security threats\\r\\nPrevious work experience desired\\r\\nCandidates with interest in careers involving or impacting global supply chain security issues will be given primary consideration', 'Analytic Thinking, Problem Solving, Communication', 'detailed research and analysis skills', \"You enjoy learning new technologies and partnering with both the business and technical teams.\\r\\nYou have experience solving specific business challenges/problems using Tableau\\r\\nYou have the ability to interpret business needs and translate them into technical requirements.\\r\\nYou have 3+ years strong data analysis skills including skills to rapidly learn new data assets. Knowledge of Equifax's differentiated data assets and technology delivery platforms or equivalent industry experience is a plus.\\r\\nDatabase and Data Analysis technology skills and experience required. Tableau, SAS, R, SQL, Big Data experience with Hadoop technologies is a plus.\", \"Bachelor's degree in Computer Science or a related discipline.\\r\\nMinimum 9+ years of solid work experience in information security or software development and architecture\\r\\nRequires analytical ability, strong judgment and problem analysis as well as a broad knowledge of business function(s), information technologies and Information Security best practices.\\r\\nRequires highly developed communication, negotiation, presentation and consensus building skills. \\r\\nRequires a thorough knowledge of business objectives, strategies and operations to provide technical expertise and support to in-house developers and to apply appropriate information security procedures and products.\\r\\nCISSP certification, or equivalent is a plus\\r\\nGreat team player requirement with a desire to have fun\", 'An understanding of APT, Cyber Crime and other associated tactics\\r\\nProven knowledge of typical adversary tactics, techniques, and procedures (TTPs)\\r\\nBackground in collecting, analyzing, and interpreting data from various sources, detailing the results and preparing substantial analysis products\\r\\nAwareness of intelligence enrichment practices (PassiveDNS, Domain Registration pivoting, VirusTotal, etc.)\\r\\nFoundational cyber skills: Networking (TCP/IP, UDP, Routing); Applications (HTTP, SMTP, DNS, FTP, SSH, etc..); Encryption (DES, AES, RSA) and hashing algorithms (MD5, SHA-1, etc.); System/Application vulnerabilities and exploitation; Operating systems (Windows, *Nix, and Mac), Cloud technology (SaaS, IaaS, PaaS), and malware or behaviors exploiting these systems\\r\\nFamiliarity with scripting / programming (Python preferred)', 'Experience with analytic trade craft, targeting, and all source analysis is highly desired.', 'Must have CCNA Security or Security+ \\r\\nWorking towards or full certification in JNCIA \\r\\nExcellent understanding of networking technologies, protocols and hardware. \\r\\nWorking experience of network concepts, including LAN/WAN infrastructure and TCP/IP routing and firewall security \\r\\nExperience with switches/routers, APs, and firewalls, specifically Cisco, Meraki and Juniper. \\r\\nKnowledge of Cisco IOS and NXOS an asset \\r\\nCisco, CCNP, CCIE certifications an asset. \\r\\nStrong understanding of technical troubleshooting methodology. \\r\\nAbility to work independently and also in a team oriented environment. \\r\\nExcellent written and oral communication skills. \\r\\nAn aptitude to learn and take on new challenges. \\r\\nAbility to Travel to other IBI offices within the GTA as needed (international travel may be required in future). \\r\\nAbility to be available on-call.', 'Receipt of the appropriate government security clearance card applicable for your position\\nDue to the client contract you will be assigned, this position requires you to be a U.S. citizen']\n",
      "[5.0, 3.0, 5.0, 8.0, 4.0, 3.0, 4.0, 14.0, 4.0, 9.0, 6.0, 0.0, 8.0, 0.0, 3.0, 9.0, 6.0, 8.0, 2.0, 1.0]\n",
      "[\"Bachelor's Degree\", \"Bachelor's Degree\", \"Bachelor's Degree\", \"Bachelor's Degree\", \"Bachelor's Degree\", \"Bachelor's Degree\", \"Bachelor's Degree\", \"Bachelor's Degree\", \"Bachelor's Degree\", \"Bachelor's Degree\", \"Master's Degree\", \"Bachelor's Degree\", \"Bachelor's Degree\", \"Bachelor's Degree\", \"Bachelor's Degree\", \"Bachelor's degree\", \"Bachelor's Degree\", \"Bachelor's Degree\", \"Bachelor's Degree\", \"Bachelor's Degree\"]\n"
     ]
    }
   ],
   "source": [
    "import xlrd\n",
    "\n",
    "book = xlrd.open_workbook('job_postings4.xlsx')\n",
    "\n",
    "sheet = book.sheet_by_name('Job Title')\n",
    "\n",
    "job_title_list = []\n",
    "company_list = []\n",
    "posted_date_list = []\n",
    "job_location_list = []\n",
    "minimal_salary_list = []\n",
    "job_duty_list = []\n",
    "required_skills_list = []\n",
    "years_of_experience_list = []\n",
    "minimal_education_list = []\n",
    "url_list = []\n",
    "\n",
    "for i in range(sheet.nrows):\n",
    "    title,company,date,location,salary,duty,skills,experience,education,url = sheet.row_values(i)\n",
    "    row = sheet.row_values(i)\n",
    "    if i !=0:\n",
    "     ##   print(title,company.date,location,salary,skills,experience,education,url)\n",
    "        job_title_list.append(title)\n",
    "        company_list.append(company)\n",
    "        posted_date_list.append(date)\n",
    "        job_location_list.append(location)\n",
    "        minimal_salary_list.append(salary)\n",
    "        required_skills_list.append(skills)\n",
    "        years_of_experience_list.append(experience)\n",
    "        minimal_education_list.append(education)\n",
    "print(job_title_list)\n",
    "print(company_list)\n",
    "print(posted_date_list)\n",
    "print(job_location_list)\n",
    "print(minimal_salary_list)\n",
    "print(job_duty_list)\n",
    "print(required_skills_list)\n",
    "print(years_of_experience_list)\n",
    "print(minimal_education_list)"
   ]
  },
  {
   "cell_type": "markdown",
   "metadata": {},
   "source": [
    "### Step 2.1- Common Job Titles"
   ]
  },
  {
   "cell_type": "code",
   "execution_count": 29,
   "metadata": {},
   "outputs": [
    {
     "name": "stdout",
     "output_type": "stream",
     "text": [
      "['Data Scientist', 'Data Scientist', 'Cyber Forensic Analyst\\r', 'Intelligence Analyst', 'Intelligence Analyst', 'Business Analyst', 'Cyber Analyst', 'Intelligence Analyst Instructor', 'SIGINT Analyst', 'Program Analyst ', 'Senior Analyst', 'Intelligence Analyst', 'Program Analyst ', 'Intelligence Analyst', 'Business Analyst', 'Security Analyst', 'Cyber Analyst', 'Intelligence Analyst', 'Network Analyst', 'Business Analyst']\n"
     ]
    }
   ],
   "source": [
    "job_title_list = []\n",
    "company_list = []\n",
    "posted_date_list = []\n",
    "job_location_list = []\n",
    "minimal_salary_list = []\n",
    "job_duty_list = []\n",
    "required_skills_list = []\n",
    "years_of_experience_list = []\n",
    "minimal_education_list = []\n",
    "url_list = []\n",
    "\n",
    "for i in range(sheet.nrows):\n",
    "    title,company,date,location,salary,duty,skills,experience,education,url = sheet.row_values(i)\n",
    "    row = sheet.row_values(i)\n",
    "    if i !=0:\n",
    "     ##   print(title,company.date,location,salary,skills,experience,education,url)\n",
    "        job_title_list.append(title)\n",
    "        company_list.append(company)\n",
    "        posted_date_list.append(date)\n",
    "        job_location_list.append(location)\n",
    "        minimal_salary_list.append(salary)\n",
    "        required_skills_list.append(skills)\n",
    "        years_of_experience_list.append(experience)\n",
    "        minimal_education_list.append(education)\n",
    "print(job_title_list)"
   ]
  },
  {
   "cell_type": "code",
   "execution_count": 30,
   "metadata": {},
   "outputs": [
    {
     "name": "stdout",
     "output_type": "stream",
     "text": [
      "Counter({'Intelligence Analyst': 5, 'Business Analyst': 3, 'Data Scientist': 2, 'Cyber Analyst': 2, 'Program Analyst ': 2, 'Cyber Forensic Analyst\\r': 1, 'Intelligence Analyst Instructor': 1, 'SIGINT Analyst': 1, 'Senior Analyst': 1, 'Security Analyst': 1, 'Network Analyst': 1})\n"
     ]
    }
   ],
   "source": [
    "from collections import Counter\n",
    "\n",
    "result = Counter(job_title_list)\n",
    "\n",
    "print(result)"
   ]
  },
  {
   "cell_type": "code",
   "execution_count": 31,
   "metadata": {},
   "outputs": [
    {
     "data": {
      "image/png": "[encoded data removed]",
      "text/plain": [
       "<Figure size 1872x720 with 1 Axes>"
      ]
     },
     "metadata": {},
     "output_type": "display_data"
    }
   ],
   "source": [
    "%matplotlib inline\n",
    "import matplotlib.pyplot as plt\n",
    "\n",
    "from matplotlib.pyplot import figure\n",
    "figure(figsize=(26,10))\n",
    "\n",
    "plt.bar(result.keys(), result.values())\n",
    "\n",
    "plt.show()"
   ]
  },
  {
   "cell_type": "markdown",
   "metadata": {},
   "source": [
    "### Step 2.2- Companies"
   ]
  },
  {
   "cell_type": "code",
   "execution_count": 32,
   "metadata": {},
   "outputs": [
    {
     "name": "stdout",
     "output_type": "stream",
     "text": [
      "['Elder Research', 'Radius Bank', 'MSI', 'Fulcrom Co.', 'Noblis', 'Arteza', 'Insight Global', 'FBI', 'BAE', 'FBI', 'ManTech', 'BSI', 'FBI', 'SPPD', 'Equifax', 'Liberty Mutual', 'GE Digital', 'ManTech', 'IBI', 'Cerner Corp']\n"
     ]
    }
   ],
   "source": [
    "job_title_list = []\n",
    "company_list = []\n",
    "posted_date_list = []\n",
    "job_location_list = []\n",
    "minimal_salary_list = []\n",
    "job_duty_list = []\n",
    "required_skills_list = []\n",
    "years_of_experience_list = []\n",
    "minimal_education_list = []\n",
    "url_list = []\n",
    "\n",
    "for i in range(sheet.nrows):\n",
    "    title,company,date,location,salary,duty,skills,experience,education,url = sheet.row_values(i)\n",
    "    row = sheet.row_values(i)\n",
    "    if i !=0:\n",
    "     ##   print(title,company.date,location,salary,skills,experience,education,url)\n",
    "        job_title_list.append(title)\n",
    "        company_list.append(company)\n",
    "        posted_date_list.append(date)\n",
    "        job_location_list.append(location)\n",
    "        minimal_salary_list.append(salary)\n",
    "        required_skills_list.append(skills)\n",
    "        years_of_experience_list.append(experience)\n",
    "        minimal_education_list.append(education)\n",
    "print(company_list)"
   ]
  },
  {
   "cell_type": "code",
   "execution_count": 33,
   "metadata": {},
   "outputs": [
    {
     "name": "stdout",
     "output_type": "stream",
     "text": [
      "Counter({'FBI': 3, 'ManTech': 2, 'Elder Research': 1, 'Radius Bank': 1, 'MSI': 1, 'Fulcrom Co.': 1, 'Noblis': 1, 'Arteza': 1, 'Insight Global': 1, 'BAE': 1, 'BSI': 1, 'SPPD': 1, 'Equifax': 1, 'Liberty Mutual': 1, 'GE Digital': 1, 'IBI': 1, 'Cerner Corp': 1})\n"
     ]
    }
   ],
   "source": [
    "from collections import Counter\n",
    "\n",
    "result = Counter(company_list)\n",
    "\n",
    "print(result)"
   ]
  },
  {
   "cell_type": "code",
   "execution_count": 34,
   "metadata": {},
   "outputs": [
    {
     "data": {
      "image/png": "[encoded data removed]",
      "text/plain": [
       "<Figure size 1728x360 with 1 Axes>"
      ]
     },
     "metadata": {},
     "output_type": "display_data"
    }
   ],
   "source": [
    "%matplotlib inline\n",
    "import matplotlib.pyplot as plt\n",
    "\n",
    "from matplotlib.pyplot import figure\n",
    "figure(figsize=(24,5))\n",
    "\n",
    "plt.bar(result.keys(), result.values())\n",
    "\n",
    "plt.show()"
   ]
  },
  {
   "cell_type": "markdown",
   "metadata": {},
   "source": [
    "### Step 2.3- Job Postings by Days"
   ]
  },
  {
   "cell_type": "code",
   "execution_count": 35,
   "metadata": {},
   "outputs": [
    {
     "name": "stdout",
     "output_type": "stream",
     "text": [
      "0    2019-01-10\n",
      "1    2019-01-10\n",
      "2    2019-03-25\n",
      "3    2019-04-04\n",
      "4    2019-04-04\n",
      "5    2019-04-05\n",
      "6    2019-04-06\n",
      "7    2019-04-09\n",
      "8    2019-04-10\n",
      "9    2019-04-12\n",
      "10   2019-04-13\n",
      "11   2019-04-14\n",
      "12   2019-04-15\n",
      "13   2019-04-16\n",
      "14   2019-04-17\n",
      "15   2019-04-17\n",
      "16   2019-04-18\n",
      "17   2019-04-18\n",
      "18   2019-04-18\n",
      "19   2019-04-18\n",
      "Name: Posted Date, dtype: datetime64[ns]\n"
     ]
    }
   ],
   "source": [
    "import matplotlib.pyplot as plt\n",
    "import pandas\n",
    "\n",
    "df = pandas.read_excel('job_postings2.xlsx')\n",
    "time_list = pandas.to_datetime(df['Posted Date'])\n",
    "print(time_list)"
   ]
  },
  {
   "cell_type": "code",
   "execution_count": 36,
   "metadata": {},
   "outputs": [
    {
     "name": "stdout",
     "output_type": "stream",
     "text": [
      "Counter({Timestamp('2019-04-18 00:00:00'): 4, Timestamp('2019-01-10 00:00:00'): 2, Timestamp('2019-04-04 00:00:00'): 2, Timestamp('2019-04-17 00:00:00'): 2, Timestamp('2019-03-25 00:00:00'): 1, Timestamp('2019-04-05 00:00:00'): 1, Timestamp('2019-04-06 00:00:00'): 1, Timestamp('2019-04-09 00:00:00'): 1, Timestamp('2019-04-10 00:00:00'): 1, Timestamp('2019-04-12 00:00:00'): 1, Timestamp('2019-04-13 00:00:00'): 1, Timestamp('2019-04-14 00:00:00'): 1, Timestamp('2019-04-15 00:00:00'): 1, Timestamp('2019-04-16 00:00:00'): 1})\n"
     ]
    }
   ],
   "source": [
    "from collections import Counter\n",
    "\n",
    "result = Counter(time_list)\n",
    "\n",
    "print(result)"
   ]
  },
  {
   "cell_type": "code",
   "execution_count": 37,
   "metadata": {},
   "outputs": [
    {
     "data": {
      "image/png": "[encoded data removed]",
      "text/plain": [
       "<Figure size 720x216 with 1 Axes>"
      ]
     },
     "metadata": {},
     "output_type": "display_data"
    }
   ],
   "source": [
    "%matplotlib inline\n",
    "import matplotlib.pyplot as plt\n",
    "\n",
    "from matplotlib.pyplot import figure\n",
    "figure(figsize=(10,3))\n",
    "\n",
    "plt.plot(result.keys(), result.values())\n",
    "\n",
    "plt.show()"
   ]
  },
  {
   "cell_type": "markdown",
   "metadata": {},
   "source": [
    "### Step 2.4- Job Locations"
   ]
  },
  {
   "cell_type": "code",
   "execution_count": 38,
   "metadata": {},
   "outputs": [
    {
     "name": "stdout",
     "output_type": "stream",
     "text": [
      "Counter({'Chantilly, VA': 3, 'Washington, D.C.': 2, 'Arlington, VA': 1, 'Boston, MA': 1, 'Reston, Va': 1, 'Honolulu, HI': 1, 'Crystal City, VA': 1, 'Miami, FL': 1, 'Fort Meade, MD': 1, ' McLean, VA': 1, 'Scottsdale, AZ': 1, 'Saint Petersburg, FL': 1, 'St. Louis, MO': 1, 'Portsmouth, NH': 1, 'Glen Allen, VA': 1, 'Toronto, Canada': 1, 'Kansas City, MO': 1})\n"
     ]
    }
   ],
   "source": [
    "from collections import Counter\n",
    "\n",
    "result = Counter(job_location_list)\n",
    "\n",
    "print(result)"
   ]
  },
  {
   "cell_type": "code",
   "execution_count": 39,
   "metadata": {},
   "outputs": [
    {
     "data": {
      "image/png": "[encoded data removed]",
      "text/plain": [
       "<Figure size 2160x720 with 1 Axes>"
      ]
     },
     "metadata": {},
     "output_type": "display_data"
    }
   ],
   "source": [
    "%matplotlib inline\n",
    "import matplotlib.pyplot as plt\n",
    "\n",
    "from matplotlib.pyplot import figure\n",
    "figure(figsize=(30,10))\n",
    "\n",
    "plt.bar(result.keys(), result.values())\n",
    "\n",
    "plt.show()"
   ]
  },
  {
   "cell_type": "markdown",
   "metadata": {},
   "source": [
    "### Step 2.5- Average Minimal Salary"
   ]
  },
  {
   "cell_type": "code",
   "execution_count": 40,
   "metadata": {},
   "outputs": [
    {
     "name": "stdout",
     "output_type": "stream",
     "text": [
      "the average minimal salary is 81058.55\n"
     ]
    }
   ],
   "source": [
    "import numpy as np\n",
    "print(\"the average {} is {}\".format('minimal salary',np.mean(minimal_salary_list)))"
   ]
  },
  {
   "cell_type": "markdown",
   "metadata": {},
   "source": [
    "### Step 2.6- Average Minimal Years of Experience"
   ]
  },
  {
   "cell_type": "code",
   "execution_count": 41,
   "metadata": {},
   "outputs": [
    {
     "name": "stdout",
     "output_type": "stream",
     "text": [
      "[5.0, 3.0, 5.0, 8.0, 4.0, 3.0, 4.0, 14.0, 4.0, 9.0, 6.0, 0.0, 8.0, 0.0, 3.0, 9.0, 6.0, 8.0, 2.0, 1.0]\n",
      "the average minimal years of experience is 5.1\n"
     ]
    }
   ],
   "source": [
    "import numpy as np\n",
    "print(\"the average {} is {}\".format('minimal years of experience',np.mean(years_of_experience_list)))"
   ]
  },
  {
   "cell_type": "code",
   "execution_count": null,
   "metadata": {},
   "outputs": [],
   "source": []
  },
  {
   "cell_type": "markdown",
   "metadata": {},
   "source": [
    "### 2.7- Years of Experience Related to Salary"
   ]
  },
  {
   "cell_type": "code",
   "execution_count": 44,
   "metadata": {},
   "outputs": [
    {
     "name": "stdout",
     "output_type": "stream",
     "text": [
      "the correlation of salary and years of experience is 0.4199533592095315\n"
     ]
    }
   ],
   "source": [
    "print(\"the correlation of salary and years of experience is {}\".format((np.corrcoef(minimal_salary_list,years_of_experience_list)[0][1])))"
   ]
  },
  {
   "cell_type": "markdown",
   "metadata": {},
   "source": [
    "### 2.8- Common Job Duties"
   ]
  },
  {
   "cell_type": "code",
   "execution_count": 46,
   "metadata": {},
   "outputs": [
    {
     "name": "stdout",
     "output_type": "stream",
     "text": [
      "As a Data Scientist, you will work directly with clients, managers and technical staff to understand business needs, develop technical plans, and deliver data-driven analytical solutions that solve client problems. You will primarily create and deploy predictive models from a wide variety of data sources and types using the latest mathematical and statistical methods.\n",
      "Reporting to the Decision Science Manager , the Data Science Analyst will be a key member of the organization supporting the development, design and execution of reporting and analytical solutions. Playing a critical role supporting improved insights into the acquisition of new customers and the behaviors of our existing customers, the successful candidate working closely with business stakeholders will demonstrate an ability to bridge the gap between technology, data, and analytics by supporting a long-term analytic strategy and managing an increasing demand for robust reporting and advanced analytics. Essential Duties: \r\n",
      "Mine and analyze data from company databases to drive optimization and improvement of acquisition marketing, fraud mitigation, retention and business strategies \r\n",
      "Design and build queries, reports, and dashboards using business intelligence tools adhering to established frameworks and standards \r\n",
      "Champion a data-driven culture across the enterprise developing methods and controls to ensure consistent application and use of data \r\n",
      "Actively participate in and influence discussions around reporting requirements, infrastructure needs, and design \r\n",
      "Assess the effectiveness and accuracy of new data sources and data gathering techniques \r\n",
      "Develop custom data models and algorithms to apply to data sets \r\n",
      "Use predictive modeling to improve applicant conversions, optimize customer experiences and reduce fraud. \r\n",
      "Develop processes and tools to monitor and analyze model performance and data accuracy \r\n",
      "Interface directly with clients and project team members to understand the needs and objectives of the business \r\n",
      "Consistently deliver high-quality business intelligence solutions and services to clients on schedule \r\n",
      "Bring structure to ambiguous business problems and recommend visualization solutions that can be easily interpreted by users \r\n",
      "Follow, maintain and improve all documentation and procedures for report design and production \r\n",
      "Sponsor teamwork and encourage collaboration Required Knowledge, Skills, and Abilities: \r\n",
      "Bachelor’s degree in Economics, Statistics, Computer Science, Information Technology, Business Analytics or related discipline. Advanced degree a plus. \r\n",
      "Minimum of 3-5 years of experience as a Business Intelligence Analyst, Data Analyst or Business Systems Analyst, in a dynamic business environment, with demonstrated reporting, analytical, and database experience. E-commerce or digital banking experience a strong plus. \r\n",
      "Key strengths include business and technical acumen, the ability to think broadly, create a shared vision, and embrace change as an opportunity \r\n",
      "Outstanding ability to clearly communicate data, context, and implications to business and technology stakeholders \r\n",
      "Ability to think creatively, to deal with ambiguity, to manage changing priorities, and to drive initiatives to completion in a fast-paced, dynamic environment \r\n",
      "Smart, self-starter who is intellectually curious, thoughtful, analytical, and has the highest ethical standards \r\n",
      "Strong capacity to work with complex data and the ability to invent, design and build robust data & analytical solutions \r\n",
      "Experience and proficiency with Tableau Desktop, Tableau Online and Tableau Prep is preferred \r\n",
      "Experience using SQL and statistical languages (R, Python, SAS, etc.) to manipulate data and draw insights from large data sets \r\n",
      "Experience visualizing/presenting data for stakeholders in a meaningful and readily accessible way \r\n",
      "Experience working with and creating data architectures to support business data reporting and modeling \r\n",
      "Excellent verbal, written communication and presentation skills \r\n",
      "Possess personal qualities of integrity, credibility and commitment to corporate mission \r\n",
      "\n",
      "Become an integral part of a diverse team that leads the world in the Mission, Cyber, and Intelligence Solutions group. With us, you will help protect our national security while working on innovative projects that offer exciting challenges, and opportunities for advancement\r\n",
      "We are currently seeking a motivated, career and customer oriented Red Team Member/Cyber Security Forensic Intrusion Analyst to join our Advanced Capabilities Team in the heart of Washington D.C. in order to provide unparalleled support to our customer and to begin an exciting and rewarding career with a diverse team of Cyber Security Professionals\n",
      "Prepare intelligence products for weekly intelligence administrative and operational synchronization meetings. \r\n",
      "Provide intelligence inputs to OPLANs/CONPLANs, MICON, CONOPs, as required. \r\n",
      "Provide Intelligence Summary (INTSUM) reports, as required, on topics approved/requested through the SOCPAC Commander’s Priority Intelligence Requirements (PIRs). \r\n",
      "Provide Special Operations Force focused Target Intelligence Package (TIP) as required. \r\n",
      "Prepare intelligence updates for COMSOCPAC’s trip book for Key Leader Engagement (KLE) visit. \r\n",
      "Develop Targeted Country intelligence estimate; provide a timely and accurate evaluation of the enemy and the AO. \r\n",
      "Prepare intelligence briefs in support of the Commander’s Read Book, or the Commander’s Update Briefs (CUB) as required. \r\n",
      "Prepare and analyze current intelligence holdings to identify gaps, and subsequent intelligence collection requirements. \r\n",
      "Assists in integrating incoming information with current intelligence holdings and prepares and maintains the current intelligence picture. \r\n",
      "Develop Population demographics (ethnic groups, religious sects, age distribution, health status, income groups). \r\n",
      "Develop Political or socio-economic factors, including factions, clans, and gangs. \r\n",
      "Develop Infrastructures, such as transportation or telecommunications, and critical decision-making infrastructures and supporting information systems. \r\n",
      "Be the Subject Matter Expert for Targeted Country(s). \r\n",
      "CONUS and OCONUS travel may be required. \r\n",
      "Deployment: Deployments of no more than 90 days may be required to the following countries: Philippines, Indonesia, Malaysia, Bangladesh, Thailand, or Singapore. \r\n",
      "Other duties may be assigned, as necessary. \n",
      "Selecting new material and recognizing important information to recommend further examination \r\n",
      "Prepares finished studies of factual data \r\n",
      "Providing specialized intelligence and threat analysis and production support \r\n",
      "Presenting findings/briefings to key personnel \r\n",
      "Developing information and technical support documents and other related documents\n",
      "Review and validate customer data as it is collected\r\n",
      "Assist other team members with SQL queries necessary to extract, transform, or load data as part of integration and analysis development.\r\n",
      "Oversee the deployment of data to the data warehouse\r\n",
      "Develop policies, and procedures for the collection and analysis of data\r\n",
      "Create or discover new data procurement and processing programs\r\n",
      "Cooperate with Operations/ IT team to deploy software and hardware upgrades that make it possible for us to leverage big data use cases\r\n",
      "Design and implement complex business visualizations, dashboards, and reports to deliver insights.\r\n",
      "Analysis of complicated data sets and presenting meaningful outcomes to a variety of stakeholders\r\n",
      "Facilitate meetings to gather business and data requirements and translates them into report and analysis specifications, for example, Sales Revenue / Gross Profit / Market Share/ Returns / Sales Calls / CSR Productivity / KPI’s\r\n",
      "Validate, interpret, and project performance metrics and KPI’s\r\n",
      "Implement new data analysis methodologies\r\n",
      "Review customer files to ensure the integrity of data collection and utilization\r\n",
      "Design and implement automated reporting dashboards to track key business metrics\r\n",
      "Perform data profiling to identify and understand anomalies\r\n",
      "Monitor product trends, pricing and competitor developments and recommend warehouse stocking levels\r\n",
      "Analyze product trends and data in formulating marketing platforms\n",
      "Assist other team members with SQL queries necessary to extract, transform, or load data as part of integration and analysis development.\n",
      "Oversee the deployment of data to the data warehouse\n",
      "Develop policies, and procedures for the collection and analysis of data\n",
      "Create or discover new data procurement and processing programs\n",
      "Cooperate with Operations/ IT team to deploy software and hardware upgrades that make it possible for us to leverage big data use cases\n",
      "Design and implement complex business visualizations, dashboards, and reports to deliver insights.\n",
      "Analysis of complicated data sets and presenting meaningful outcomes to a variety of stakeholders\n",
      "Facilitate meetings to gather business and data requirements and translates them into report and analysis specifications, for example, Sales Revenue / Gross Profit / Market Share/ Returns / Sales Calls / CSR Productivity / KPI’s\n",
      "Validate, interpret, and project performance metrics and KPI’s\n",
      "Implement new data analysis methodologies\n",
      "Review customer files to ensure the integrity of data collection and utilization\n",
      "Design and implement automated reporting dashboards to track key business metrics\n",
      "Perform data profiling to identify and understand anomalies\n",
      "Monitor product trends, pricing and competitor developments and recommend warehouse stocking levels\n",
      "Analyze product trends and data in formulating marketing platforms\n",
      "Insight Global is actively hiring multiple Cleared Cyber Security Engineers to support our DOD and Intel portfolio at Fort Meade.\r\n",
      "The selected candidates should have hands on Cyber Security experience working with IDS/IPS and SIEM Tools such as Splunk, Arcsight, Wireshark etc. and preferably would have experience with incident response and remediation.\r\n",
      "Candidates must have a minimum of a Secret Clearance with Top Secret Clearances highly preferred.\r\n",
      "We are looking to hire candidates immediately, so if you are interested, please apply today so we can discuss further. Thanks so much and we look forward to working with you!\n",
      "Assist analyst with developing and applying analytical skills to provide a proactive and predictive response to potential terrorist, foreign language intelligence, or criminal threats, activities, and/or groups. Assist analyst to exercise great expertise in navigating the classified/unclassified automated database system, intelligence reports; various inter-agency communications; case file and other sources of information. Share knowledge of the operation of the entire intelligence program of the organization and its relation to the national intelligence activity. Communicate orally and in writing, to provide information, expert advice and guidance.\n",
      "Provides analysis and research for industry, infrastructure, technology, country, geographic area, biographic and targeted vulnerability. Prepares assessments of current events based on the sophisticated collection, research and analysis of classified and open source information. Develops and maintains analytical procedures to meet changing requirements and ensure maximum operations. Collects data using a combination of standard intelligence methods and business processes. Typical Education and Experience Bachelor's Degree or equivalent experience\n",
      "Coordinate with other programs within CyD and the FBI to include field office personnel. Providing presentations and briefings to a variety of audiences which includes executives from private industry and government. Representing unit in command posts. Identifying, engaging, analyzing and evaluating strategic relationships with key partners across the USG and private sector. Engaging with operational and intelligence sections to assist in the development of a joint strategy for industry engagement. Documenting and evaluating interactions with industry and others via Sentinel and any other systems as deemed appropriate. Drafting reports and other documents regarding unit matters. Capture metrics and track mission progress, preparing recommendations to adjust as needed. Provide logistical and administrative support to private industry meetings. Provide administrative support to MCEU and CEIS and any other duties as assigned. Domestic/international travel required and any other duties as assigned.\n",
      "Facilitates the exchange of criminal, terrorism, critical infrastructure information and intelligence between the fusion centers and all law enforcement, public safety, homeland security partners, and private industry partners in the Northern Virginia region. Provides specialized intelligence and threat analysis and production support. Analyze multi-faceted data in order to show methods, trends, and patterns relating to the Northern Virginia region. Compile reports and undertake projects relating to criminal, terrorism, homeland security, cyber, or critical infrastructure issues as needed. Provides intelligence and threat analysis of the information that is tailored to the customer's requirements. Presents briefings to key personnel and external agencies and partners as designated by the customer. Accesses and perform research on designated automated intelligence databases based on analytic reasoning, and compile in-depth intelligence products in conjunction with completing projects relating to criminal activity, terrorism, cyber, or critical infrastructure and provide assistance for special projects in the fusion center as needed.\n",
      "Direct involvement in developing and supporting supply chain security solutions and services for BSI commercial and government clients through the collection of intelligence data\r\n",
      "Identify and extract essential information from intelligence sources, research, and investigations; analyze the data and synthesize the information into written reports that can be disseminated to BSI government and commercial clients through BSI products and services\r\n",
      "Develop specific expertise, discern patterns of complex behaviors, and provide an accurate understanding of present and emerging threats to supply chain security\r\n",
      "Subject matter will have particular emphasis on terrorism activities, cargo disruption trends, supply chain security, industrial, governmental, cultural, and other demographic trade security-related indicators\r\n",
      "Efficiently manage and navigate records, reports, databases, and other sources of information to support research and analysis\r\n",
      "Retain a heightened sense of awareness of compliance and client confidentiality obligations\r\n",
      "Provide additional administrative and analytical support as needed\n",
      "Maintains detailed and extensive records of Cyber Division’s library of talking points and presentations, with regular updates to meet ongoing divisional needs.\n",
      "Documents and tracks monthly engagements, communications, compliance efforts, and initiatives for Cyber Division Executive Management.\n",
      "Interacting extensively with other programs within CyD and the FBI to include field office personnel. Providing general briefings to a variety of audiences which includes executives from private industry and government.  Representing unit in command posts. \n",
      "Identifying, engaging, and maintaining relationships with key partners across the USG and private sector. Engaging with operational and intelligence sections to develop joint strategy for industry engagement.\n",
      "Documenting interactions with industry and others via Sentinel and any other systems as deemed appropriate. Drafting reports and other documents regarding unit matters. Developing metrics and tracking mission progress. Provide logistical and administrative support to private industry meetings.\n",
      "Assist with the planning, coordinating, and execution of division-wide events on behalf of executive management. Such events include conferences (both internal FBI and external), operational summits, ceremonies, and VIP visits.\n",
      "Domestic/international travel required and any other duties as assigned.\n",
      "This is professional and technical work conducting detailed research and analysis of confidential intelligence and investigative information relating to criminal activity in order to assist and enhance the effectiveness of law enforcement. Work may include investigating confidential intelligence information such as financial transactions and related business records; compiling, analyzing and disseminating criminal activity information (in the form of bulletins, intelligence reports,etc); coordinating the exchange of interstate and intrastate information pertaining to criminal activity, syndicated criminal movement and terrorism related incidents; and preparing written reports requiring thorough analysis and evaluation of intelligence and investigative information. Work requires intricate knowledge of social media; usage of multiple law enforcement databases; the collection of data from other government sources; and the ability to manipulate large quantities of raw data via spreadsheets or database creation. Work includes providing information to assist operations personnel in the identification of specific crime problems (crime patterns/sprees/series) and suspect leads; forecasting future crime occurrences; developing target profile analyses; furnishing support data to community policing and crime prevention programs; and providing data to support departmental planning activities, deployment planning, resource allocation, and budgeting activities. Work also involves examining existing incident characteristics; identifying modus operandi; and identifying pre-incident indicators and characteristics. Work demands a high level of personal and professional integrity and tenacity to perform complex analysis that assists sensitive and often urgent investigations.\n",
      "You will work directly with Planning and Execution, IT, Finance, Sales, and other internal customers to design, document, and support the creation of analytical dashboards for business metrics and data exploration.\r\n",
      "Solve data & analytical problems that have major impacts on the customer's business.\r\n",
      "Develop strategies, standards and standard methodologies in the areas of data visualization, KPI reporting, and user experience.\r\n",
      "Perform analysis and integrate various business data sources to create impactful analytical solutions.\r\n",
      "Collaborate extensively with internal Equifax leads to ensure the seamless consumption of insights generated from Equifax business data platforms.\r\n",
      "Educate users about usage of the analytical views created and advise on visualization/data best practices.\n",
      "Provides technical expertise and support to client, IT management and other infrastructure staff in risk assessments, implementation and operational aspects of appropriate information security procedures and controls. Identifies regulatory changes that will affect information security policy, standards and procedures, and recommends appropriate changes. Maintains an awareness of existing and proposed security standard setting groups, State and Federal legislation and regulations and how they will affect the LMIG environment. \r\n",
      "Develops systems scanning and vulnerability strategies and testing protocols to achieve compliance with set standards. Develops and oversees remediation processes.\r\n",
      "Participates in the evaluation, development and implementation of security standards, procedures and guidelines for multiple platforms and diverse systems environment (e.g., company-wide, distributed, client server systems, and e-applications). \r\n",
      "Performs access control and account administration of critical information resources and design of processes to manage privileged users and user accounts.\r\n",
      "Consults with client and development area management or staff in the design and implementation of new or modified information security systems and operations\r\n",
      "Coordinates tests and implements appropriate security methods and control \r\n",
      "Facilitates teamwork process and meetings and provides training to clients or teams during implementation.\r\n",
      "Acts as a liaison to the product groups and Architecture & Engineering and assists them in the implementation of security technologies and applications security. \r\n",
      "Helps with the development communications and related campaigns for information security awareness among all staff. \r\n",
      "Conduct security architectural reviews on projects, applications and initiatives that ensure that corporate security policy, standards and guidelines are adhered to.\r\n",
      "Perform security architecture gap analysis, identify solutions and position them in the security architecture for reuse.\r\n",
      "May use automated tools, utilities and visual inspection of application source code to find security weaknesses and code flaws. Educate development teams on best practices and techniques to prevent application exploitation.\r\n",
      "May construct written reports for application development team's findings from code reviews, penetration testing, ethical hacking and other assessments that provide clear problem definitions, proposed fix actions and mitigating controls that allow the teams to remediate the application.\r\n",
      "Determine significant risk points and exercise process for risk assessment and risk acceptance.\r\n",
      "Evaluate, test and select security tools, evaluation products and control products.\r\n",
      "Reviews the development, testing and implementation of security plans, products and control techniques. \r\n",
      "Performs related duties as assigned or requested.\n",
      "Perform daily technical data collection to product detection, defenses and derive a profile of threat actors\r\n",
      "Improve our threat modeling methods to identify, analyze and prioritize on cyber threats\r\n",
      "The ideal candidate for this role will have strong analytical skills and the ability to clearly and concisely document findings to report to constituents\r\n",
      "Collaborate with incident responders to determine attribution and prioritization\r\n",
      "Write signatures, tune systems and tools, and develop scripts and correlation rules\n",
      "Detection of suspected instances of waste, fraud, and abuse involving customer's information systems\r\n",
      "Analytic support based on all source analysis\r\n",
      "Participate in technical meetings and working groups to address issues related to computer security and vulnerabilities. Prepare, write and present reports and briefings as required.\r\n",
      "Cable and report writing and coordination based upon analytic work\r\n",
      "Incorporate all security disciplines, recommend and develop requirements, specifications, designs, and procedure to satisfy program security policy and planning guidance\r\n",
      "Develop reports on activity findings, detailed information, and recommendations in support of the customer mission.\n",
      "Provide hands-on network administration support, network maintenance and operations support. \r\n",
      "Recommend networking software and hardware enhancements. \r\n",
      "Build, configure, and troubleshoot local area network (LAN), wide area network (WAN), and other remote offices’ networks. including any recommendations and enhancements for other field devices. \r\n",
      "Diagnose and correct network systems issues along with issues pertaining to other field devices \r\n",
      "Provide up-to-date system and network documentation and inventories. \r\n",
      "Support initiatives with on-site support and to travel to other local offices as needed. \r\n",
      "Provide after hours coverage for any emergency situations.\n",
      "Must reside in or be willing to relocate to the Kansas City, MO area\r\n",
      "Willing to travel up to 20% as needed\r\n",
      "Willing to work additional or irregular hours as needed and allowed by local regulations\r\n",
      "Work in accordance with corporate and organizational security policies and procedures, understand personal role in safeguarding corporate and client assets, and take appropriate action to prevent and report any compromises of security within scope of the position\r\n",
      "Perform other responsibilities as assigned\n"
     ]
    }
   ],
   "source": [
    "for duty in df['Job Duty']:\n",
    "    print (duty)"
   ]
  },
  {
   "cell_type": "code",
   "execution_count": 47,
   "metadata": {},
   "outputs": [
    {
     "name": "stdout",
     "output_type": "stream",
     "text": [
      "Must reside in or be willing to relocate to the Kansas City, MO area\r\n",
      "Willing to travel up to 20% as needed\r\n",
      "Willing to work additional or irregular hours as needed and allowed by local regulations\r\n",
      "Work in accordance with corporate and organizational security policies and procedures, understand personal role in safeguarding corporate and client assets, and take appropriate action to prevent and report any compromises of security within scope of the position\r\n",
      "Perform other responsibilities as assignedProvide hands-on network administration support, network maintenance and operations support. \r\n",
      "Recommend networking software and hardware enhancements. \r\n",
      "Build, configure, and troubleshoot local area network (LAN), wide area network (WAN), and other remote offices’ networks. including any recommendations and enhancements for other field devices. \r\n",
      "Diagnose and correct network systems issues along with issues pertaining to other field devices \r\n",
      "Provide up-to-date system and network documentation and inventories. \r\n",
      "Support initiatives with on-site support and to travel to other local offices as needed. \r\n",
      "Provide after hours coverage for any emergency situations.Detection of suspected instances of waste, fraud, and abuse involving customer's information systems\r\n",
      "Analytic support based on all source analysis\r\n",
      "Participate in technical meetings and working groups to address issues related to computer security and vulnerabilities. Prepare, write and present reports and briefings as required.\r\n",
      "Cable and report writing and coordination based upon analytic work\r\n",
      "Incorporate all security disciplines, recommend and develop requirements, specifications, designs, and procedure to satisfy program security policy and planning guidance\r\n",
      "Develop reports on activity findings, detailed information, and recommendations in support of the customer mission.Perform daily technical data collection to product detection, defenses and derive a profile of threat actors\r\n",
      "Improve our threat modeling methods to identify, analyze and prioritize on cyber threats\r\n",
      "The ideal candidate for this role will have strong analytical skills and the ability to clearly and concisely document findings to report to constituents\r\n",
      "Collaborate with incident responders to determine attribution and prioritization\r\n",
      "Write signatures, tune systems and tools, and develop scripts and correlation rulesProvides technical expertise and support to client, IT management and other infrastructure staff in risk assessments, implementation and operational aspects of appropriate information security procedures and controls. Identifies regulatory changes that will affect information security policy, standards and procedures, and recommends appropriate changes. Maintains an awareness of existing and proposed security standard setting groups, State and Federal legislation and regulations and how they will affect the LMIG environment. \r\n",
      "Develops systems scanning and vulnerability strategies and testing protocols to achieve compliance with set standards. Develops and oversees remediation processes.\r\n",
      "Participates in the evaluation, development and implementation of security standards, procedures and guidelines for multiple platforms and diverse systems environment (e.g., company-wide, distributed, client server systems, and e-applications). \r\n",
      "Performs access control and account administration of critical information resources and design of processes to manage privileged users and user accounts.\r\n",
      "Consults with client and development area management or staff in the design and implementation of new or modified information security systems and operations\r\n",
      "Coordinates tests and implements appropriate security methods and control \r\n",
      "Facilitates teamwork process and meetings and provides training to clients or teams during implementation.\r\n",
      "Acts as a liaison to the product groups and Architecture & Engineering and assists them in the implementation of security technologies and applications security. \r\n",
      "Helps with the development communications and related campaigns for information security awareness among all staff. \r\n",
      "Conduct security architectural reviews on projects, applications and initiatives that ensure that corporate security policy, standards and guidelines are adhered to.\r\n",
      "Perform security architecture gap analysis, identify solutions and position them in the security architecture for reuse.\r\n",
      "May use automated tools, utilities and visual inspection of application source code to find security weaknesses and code flaws. Educate development teams on best practices and techniques to prevent application exploitation.\r\n",
      "May construct written reports for application development team's findings from code reviews, penetration testing, ethical hacking and other assessments that provide clear problem definitions, proposed fix actions and mitigating controls that allow the teams to remediate the application.\r\n",
      "Determine significant risk points and exercise process for risk assessment and risk acceptance.\r\n",
      "Evaluate, test and select security tools, evaluation products and control products.\r\n",
      "Reviews the development, testing and implementation of security plans, products and control techniques. \r\n",
      "Performs related duties as assigned or requested.You will work directly with Planning and Execution, IT, Finance, Sales, and other internal customers to design, document, and support the creation of analytical dashboards for business metrics and data exploration.\r\n",
      "Solve data & analytical problems that have major impacts on the customer's business.\r\n",
      "Develop strategies, standards and standard methodologies in the areas of data visualization, KPI reporting, and user experience.\r\n",
      "Perform analysis and integrate various business data sources to create impactful analytical solutions.\r\n",
      "Collaborate extensively with internal Equifax leads to ensure the seamless consumption of insights generated from Equifax business data platforms.\r\n",
      "Educate users about usage of the analytical views created and advise on visualization/data best practices.This is professional and technical work conducting detailed research and analysis of confidential intelligence and investigative information relating to criminal activity in order to assist and enhance the effectiveness of law enforcement. Work may include investigating confidential intelligence information such as financial transactions and related business records; compiling, analyzing and disseminating criminal activity information (in the form of bulletins, intelligence reports,etc); coordinating the exchange of interstate and intrastate information pertaining to criminal activity, syndicated criminal movement and terrorism related incidents; and preparing written reports requiring thorough analysis and evaluation of intelligence and investigative information. Work requires intricate knowledge of social media; usage of multiple law enforcement databases; the collection of data from other government sources; and the ability to manipulate large quantities of raw data via spreadsheets or database creation. Work includes providing information to assist operations personnel in the identification of specific crime problems (crime patterns/sprees/series) and suspect leads; forecasting future crime occurrences; developing target profile analyses; furnishing support data to community policing and crime prevention programs; and providing data to support departmental planning activities, deployment planning, resource allocation, and budgeting activities. Work also involves examining existing incident characteristics; identifying modus operandi; and identifying pre-incident indicators and characteristics. Work demands a high level of personal and professional integrity and tenacity to perform complex analysis that assists sensitive and often urgent investigations.Maintains detailed and extensive records of Cyber Division’s library of talking points and presentations, with regular updates to meet ongoing divisional needs.\n",
      "Documents and tracks monthly engagements, communications, compliance efforts, and initiatives for Cyber Division Executive Management.\n",
      "Interacting extensively with other programs within CyD and the FBI to include field office personnel. Providing general briefings to a variety of audiences which includes executives from private industry and government.  Representing unit in command posts. \n",
      "Identifying, engaging, and maintaining relationships with key partners across the USG and private sector. Engaging with operational and intelligence sections to develop joint strategy for industry engagement.\n",
      "Documenting interactions with industry and others via Sentinel and any other systems as deemed appropriate. Drafting reports and other documents regarding unit matters. Developing metrics and tracking mission progress. Provide logistical and administrative support to private industry meetings.\n",
      "Assist with the planning, coordinating, and execution of division-wide events on behalf of executive management. Such events include conferences (both internal FBI and external), operational summits, ceremonies, and VIP visits.\n",
      "Domestic/international travel required and any other duties as assigned.Direct involvement in developing and supporting supply chain security solutions and services for BSI commercial and government clients through the collection of intelligence data\r\n",
      "Identify and extract essential information from intelligence sources, research, and investigations; analyze the data and synthesize the information into written reports that can be disseminated to BSI government and commercial clients through BSI products and services\r\n",
      "Develop specific expertise, discern patterns of complex behaviors, and provide an accurate understanding of present and emerging threats to supply chain security\r\n",
      "Subject matter will have particular emphasis on terrorism activities, cargo disruption trends, supply chain security, industrial, governmental, cultural, and other demographic trade security-related indicators\r\n",
      "Efficiently manage and navigate records, reports, databases, and other sources of information to support research and analysis\r\n",
      "Retain a heightened sense of awareness of compliance and client confidentiality obligations\r\n",
      "Provide additional administrative and analytical support as neededFacilitates the exchange of criminal, terrorism, critical infrastructure information and intelligence between the fusion centers and all law enforcement, public safety, homeland security partners, and private industry partners in the Northern Virginia region. Provides specialized intelligence and threat analysis and production support. Analyze multi-faceted data in order to show methods, trends, and patterns relating to the Northern Virginia region. Compile reports and undertake projects relating to criminal, terrorism, homeland security, cyber, or critical infrastructure issues as needed. Provides intelligence and threat analysis of the information that is tailored to the customer's requirements. Presents briefings to key personnel and external agencies and partners as designated by the customer. Accesses and perform research on designated automated intelligence databases based on analytic reasoning, and compile in-depth intelligence products in conjunction with completing projects relating to criminal activity, terrorism, cyber, or critical infrastructure and provide assistance for special projects in the fusion center as needed.Coordinate with other programs within CyD and the FBI to include field office personnel. Providing presentations and briefings to a variety of audiences which includes executives from private industry and government. Representing unit in command posts. Identifying, engaging, analyzing and evaluating strategic relationships with key partners across the USG and private sector. Engaging with operational and intelligence sections to assist in the development of a joint strategy for industry engagement. Documenting and evaluating interactions with industry and others via Sentinel and any other systems as deemed appropriate. Drafting reports and other documents regarding unit matters. Capture metrics and track mission progress, preparing recommendations to adjust as needed. Provide logistical and administrative support to private industry meetings. Provide administrative support to MCEU and CEIS and any other duties as assigned. Domestic/international travel required and any other duties as assigned.Provides analysis and research for industry, infrastructure, technology, country, geographic area, biographic and targeted vulnerability. Prepares assessments of current events based on the sophisticated collection, research and analysis of classified and open source information. Develops and maintains analytical procedures to meet changing requirements and ensure maximum operations. Collects data using a combination of standard intelligence methods and business processes. Typical Education and Experience Bachelor's Degree or equivalent experienceAssist analyst with developing and applying analytical skills to provide a proactive and predictive response to potential terrorist, foreign language intelligence, or criminal threats, activities, and/or groups. Assist analyst to exercise great expertise in navigating the classified/unclassified automated database system, intelligence reports; various inter-agency communications; case file and other sources of information. Share knowledge of the operation of the entire intelligence program of the organization and its relation to the national intelligence activity. Communicate orally and in writing, to provide information, expert advice and guidance.Insight Global is actively hiring multiple Cleared Cyber Security Engineers to support our DOD and Intel portfolio at Fort Meade.\r\n",
      "The selected candidates should have hands on Cyber Security experience working with IDS/IPS and SIEM Tools such as Splunk, Arcsight, Wireshark etc. and preferably would have experience with incident response and remediation.\r\n",
      "Candidates must have a minimum of a Secret Clearance with Top Secret Clearances highly preferred.\r\n",
      "We are looking to hire candidates immediately, so if you are interested, please apply today so we can discuss further. Thanks so much and we look forward to working with you!Review and validate customer data as it is collected\r\n",
      "Assist other team members with SQL queries necessary to extract, transform, or load data as part of integration and analysis development.\r\n",
      "Oversee the deployment of data to the data warehouse\r\n",
      "Develop policies, and procedures for the collection and analysis of data\r\n",
      "Create or discover new data procurement and processing programs\r\n",
      "Cooperate with Operations/ IT team to deploy software and hardware upgrades that make it possible for us to leverage big data use cases\r\n",
      "Design and implement complex business visualizations, dashboards, and reports to deliver insights.\r\n",
      "Analysis of complicated data sets and presenting meaningful outcomes to a variety of stakeholders\r\n",
      "Facilitate meetings to gather business and data requirements and translates them into report and analysis specifications, for example, Sales Revenue / Gross Profit / Market Share/ Returns / Sales Calls / CSR Productivity / KPI’s\r\n",
      "Validate, interpret, and project performance metrics and KPI’s\r\n",
      "Implement new data analysis methodologies\r\n",
      "Review customer files to ensure the integrity of data collection and utilization\r\n",
      "Design and implement automated reporting dashboards to track key business metrics\r\n",
      "Perform data profiling to identify and understand anomalies\r\n",
      "Monitor product trends, pricing and competitor developments and recommend warehouse stocking levels\r\n",
      "Analyze product trends and data in formulating marketing platforms\n",
      "Assist other team members with SQL queries necessary to extract, transform, or load data as part of integration and analysis development.\n",
      "Oversee the deployment of data to the data warehouse\n",
      "Develop policies, and procedures for the collection and analysis of data\n",
      "Create or discover new data procurement and processing programs\n",
      "Cooperate with Operations/ IT team to deploy software and hardware upgrades that make it possible for us to leverage big data use cases\n",
      "Design and implement complex business visualizations, dashboards, and reports to deliver insights.\n",
      "Analysis of complicated data sets and presenting meaningful outcomes to a variety of stakeholders\n",
      "Facilitate meetings to gather business and data requirements and translates them into report and analysis specifications, for example, Sales Revenue / Gross Profit / Market Share/ Returns / Sales Calls / CSR Productivity / KPI’s\n",
      "Validate, interpret, and project performance metrics and KPI’s\n",
      "Implement new data analysis methodologies\n",
      "Review customer files to ensure the integrity of data collection and utilization\n",
      "Design and implement automated reporting dashboards to track key business metrics\n",
      "Perform data profiling to identify and understand anomalies\n",
      "Monitor product trends, pricing and competitor developments and recommend warehouse stocking levels\n",
      "Analyze product trends and data in formulating marketing platformsSelecting new material and recognizing important information to recommend further examination \r\n",
      "Prepares finished studies of factual data \r\n",
      "Providing specialized intelligence and threat analysis and production support \r\n",
      "Presenting findings/briefings to key personnel \r\n",
      "Developing information and technical support documents and other related documentsPrepare intelligence products for weekly intelligence administrative and operational synchronization meetings. \r\n",
      "Provide intelligence inputs to OPLANs/CONPLANs, MICON, CONOPs, as required. \r\n",
      "Provide Intelligence Summary (INTSUM) reports, as required, on topics approved/requested through the SOCPAC Commander’s Priority Intelligence Requirements (PIRs). \r\n",
      "Provide Special Operations Force focused Target Intelligence Package (TIP) as required. \r\n",
      "Prepare intelligence updates for COMSOCPAC’s trip book for Key Leader Engagement (KLE) visit. \r\n",
      "Develop Targeted Country intelligence estimate; provide a timely and accurate evaluation of the enemy and the AO. \r\n",
      "Prepare intelligence briefs in support of the Commander’s Read Book, or the Commander’s Update Briefs (CUB) as required. \r\n",
      "Prepare and analyze current intelligence holdings to identify gaps, and subsequent intelligence collection requirements. \r\n",
      "Assists in integrating incoming information with current intelligence holdings and prepares and maintains the current intelligence picture. \r\n",
      "Develop Population demographics (ethnic groups, religious sects, age distribution, health status, income groups). \r\n",
      "Develop Political or socio-economic factors, including factions, clans, and gangs. \r\n",
      "Develop Infrastructures, such as transportation or telecommunications, and critical decision-making infrastructures and supporting information systems. \r\n",
      "Be the Subject Matter Expert for Targeted Country(s). \r\n",
      "CONUS and OCONUS travel may be required. \r\n",
      "Deployment: Deployments of no more than 90 days may be required to the following countries: Philippines, Indonesia, Malaysia, Bangladesh, Thailand, or Singapore. \r\n",
      "Other duties may be assigned, as necessary. Become an integral part of a diverse team that leads the world in the Mission, Cyber, and Intelligence Solutions group. With us, you will help protect our national security while working on innovative projects that offer exciting challenges, and opportunities for advancement\r\n",
      "We are currently seeking a motivated, career and customer oriented Red Team Member/Cyber Security Forensic Intrusion Analyst to join our Advanced Capabilities Team in the heart of Washington D.C. in order to provide unparalleled support to our customer and to begin an exciting and rewarding career with a diverse team of Cyber Security ProfessionalsReporting to the Decision Science Manager , the Data Science Analyst will be a key member of the organization supporting the development, design and execution of reporting and analytical solutions. Playing a critical role supporting improved insights into the acquisition of new customers and the behaviors of our existing customers, the successful candidate working closely with business stakeholders will demonstrate an ability to bridge the gap between technology, data, and analytics by supporting a long-term analytic strategy and managing an increasing demand for robust reporting and advanced analytics. Essential Duties: \r\n",
      "Mine and analyze data from company databases to drive optimization and improvement of acquisition marketing, fraud mitigation, retention and business strategies \r\n",
      "Design and build queries, reports, and dashboards using business intelligence tools adhering to established frameworks and standards \r\n",
      "Champion a data-driven culture across the enterprise developing methods and controls to ensure consistent application and use of data \r\n",
      "Actively participate in and influence discussions around reporting requirements, infrastructure needs, and design \r\n",
      "Assess the effectiveness and accuracy of new data sources and data gathering techniques \r\n",
      "Develop custom data models and algorithms to apply to data sets \r\n",
      "Use predictive modeling to improve applicant conversions, optimize customer experiences and reduce fraud. \r\n",
      "Develop processes and tools to monitor and analyze model performance and data accuracy \r\n",
      "Interface directly with clients and project team members to understand the needs and objectives of the business \r\n",
      "Consistently deliver high-quality business intelligence solutions and services to clients on schedule \r\n",
      "Bring structure to ambiguous business problems and recommend visualization solutions that can be easily interpreted by users \r\n",
      "Follow, maintain and improve all documentation and procedures for report design and production \r\n",
      "Sponsor teamwork and encourage collaboration Required Knowledge, Skills, and Abilities: \r\n",
      "Bachelor’s degree in Economics, Statistics, Computer Science, Information Technology, Business Analytics or related discipline. Advanced degree a plus. \r\n",
      "Minimum of 3-5 years of experience as a Business Intelligence Analyst, Data Analyst or Business Systems Analyst, in a dynamic business environment, with demonstrated reporting, analytical, and database experience. E-commerce or digital banking experience a strong plus. \r\n",
      "Key strengths include business and technical acumen, the ability to think broadly, create a shared vision, and embrace change as an opportunity \r\n",
      "Outstanding ability to clearly communicate data, context, and implications to business and technology stakeholders \r\n",
      "Ability to think creatively, to deal with ambiguity, to manage changing priorities, and to drive initiatives to completion in a fast-paced, dynamic environment \r\n",
      "Smart, self-starter who is intellectually curious, thoughtful, analytical, and has the highest ethical standards \r\n",
      "Strong capacity to work with complex data and the ability to invent, design and build robust data & analytical solutions \r\n",
      "Experience and proficiency with Tableau Desktop, Tableau Online and Tableau Prep is preferred \r\n",
      "Experience using SQL and statistical languages (R, Python, SAS, etc.) to manipulate data and draw insights from large data sets \r\n",
      "Experience visualizing/presenting data for stakeholders in a meaningful and readily accessible way \r\n",
      "Experience working with and creating data architectures to support business data reporting and modeling \r\n",
      "Excellent verbal, written communication and presentation skills \r\n",
      "Possess personal qualities of integrity, credibility and commitment to corporate mission \r\n",
      "As a Data Scientist, you will work directly with clients, managers and technical staff to understand business needs, develop technical plans, and deliver data-driven analytical solutions that solve client problems. You will primarily create and deploy predictive models from a wide variety of data sources and types using the latest mathematical and statistical methods.\n"
     ]
    }
   ],
   "source": [
    "duties =''\n",
    "for duty in df['Job Duty']:\n",
    "    duties = duty + duties\n",
    "print (duties)"
   ]
  },
  {
   "cell_type": "code",
   "execution_count": 48,
   "metadata": {},
   "outputs": [],
   "source": [
    "\n",
    "import xlwt        \n",
    "\n",
    "from collections import Counter        \n",
    "\n",
    "from nltk.corpus import stopwords\n",
    "\n",
    "stop = set(stopwords.words('english'))\n",
    "\n",
    "  \n",
    "\n",
    "book = xlwt.Workbook() # create a new excel file\n",
    "\n",
    "sheet_test = book.add_sheet('word_count') # add a new sheet\n",
    "\n",
    "i = 0\n",
    "\n",
    "sheet_test.write(i,0,'word') # write the header of the first column\n",
    "\n",
    "sheet_test.write(i,1,'count') # write the header of the second column\n",
    "\n",
    "sheet_test.write(i,2,'ratio') # write the header of the third column"
   ]
  },
  {
   "cell_type": "code",
   "execution_count": 49,
   "metadata": {},
   "outputs": [],
   "source": [
    "\n",
    "word_list = [i for i in duties.lower().split() if i not in stop]\n",
    "\n",
    "word_total = word_list.__len__()\n",
    "\n",
    "\n",
    "\n",
    "count_result =  Counter(word_list)\n",
    "\n",
    "for result in count_result.most_common(20):\n",
    "\n",
    "    i = i+1 \n",
    "\n",
    "    sheet_test.write(i,0,result[0])\n",
    "\n",
    "    sheet_test.write(i,1,result[1])\n",
    "\n",
    "    sheet_test.write(i,2,(result[1]/word_total))\n",
    "\n",
    "    \n",
    "\n",
    "book.save('duties.xls')# define the location of your excel file"
   ]
  },
  {
   "cell_type": "markdown",
   "metadata": {},
   "source": [
    "<img src=\"final_sheet1.png\">"
   ]
  },
  {
   "cell_type": "markdown",
   "metadata": {},
   "source": [
    "### 2.9- Common Job Skills"
   ]
  },
  {
   "cell_type": "code",
   "execution_count": 51,
   "metadata": {},
   "outputs": [
    {
     "name": "stdout",
     "output_type": "stream",
     "text": [
      "Receipt of the appropriate government security clearance card applicable for your position\n",
      "Due to the client contract you will be assigned, this position requires you to be a U.S. citizenMust have CCNA Security or Security+ \r\n",
      "Working towards or full certification in JNCIA \r\n",
      "Excellent understanding of networking technologies, protocols and hardware. \r\n",
      "Working experience of network concepts, including LAN/WAN infrastructure and TCP/IP routing and firewall security \r\n",
      "Experience with switches/routers, APs, and firewalls, specifically Cisco, Meraki and Juniper. \r\n",
      "Knowledge of Cisco IOS and NXOS an asset \r\n",
      "Cisco, CCNP, CCIE certifications an asset. \r\n",
      "Strong understanding of technical troubleshooting methodology. \r\n",
      "Ability to work independently and also in a team oriented environment. \r\n",
      "Excellent written and oral communication skills. \r\n",
      "An aptitude to learn and take on new challenges. \r\n",
      "Ability to Travel to other IBI offices within the GTA as needed (international travel may be required in future). \r\n",
      "Ability to be available on-call.Experience with analytic trade craft, targeting, and all source analysis is highly desired.An understanding of APT, Cyber Crime and other associated tactics\r\n",
      "Proven knowledge of typical adversary tactics, techniques, and procedures (TTPs)\r\n",
      "Background in collecting, analyzing, and interpreting data from various sources, detailing the results and preparing substantial analysis products\r\n",
      "Awareness of intelligence enrichment practices (PassiveDNS, Domain Registration pivoting, VirusTotal, etc.)\r\n",
      "Foundational cyber skills: Networking (TCP/IP, UDP, Routing); Applications (HTTP, SMTP, DNS, FTP, SSH, etc..); Encryption (DES, AES, RSA) and hashing algorithms (MD5, SHA-1, etc.); System/Application vulnerabilities and exploitation; Operating systems (Windows, *Nix, and Mac), Cloud technology (SaaS, IaaS, PaaS), and malware or behaviors exploiting these systems\r\n",
      "Familiarity with scripting / programming (Python preferred)Bachelor's degree in Computer Science or a related discipline.\r\n",
      "Minimum 9+ years of solid work experience in information security or software development and architecture\r\n",
      "Requires analytical ability, strong judgment and problem analysis as well as a broad knowledge of business function(s), information technologies and Information Security best practices.\r\n",
      "Requires highly developed communication, negotiation, presentation and consensus building skills. \r\n",
      "Requires a thorough knowledge of business objectives, strategies and operations to provide technical expertise and support to in-house developers and to apply appropriate information security procedures and products.\r\n",
      "CISSP certification, or equivalent is a plus\r\n",
      "Great team player requirement with a desire to have funYou enjoy learning new technologies and partnering with both the business and technical teams.\r\n",
      "You have experience solving specific business challenges/problems using Tableau\r\n",
      "You have the ability to interpret business needs and translate them into technical requirements.\r\n",
      "You have 3+ years strong data analysis skills including skills to rapidly learn new data assets. Knowledge of Equifax's differentiated data assets and technology delivery platforms or equivalent industry experience is a plus.\r\n",
      "Database and Data Analysis technology skills and experience required. Tableau, SAS, R, SQL, Big Data experience with Hadoop technologies is a plus.detailed research and analysis skillsAnalytic Thinking, Problem Solving, CommunicationBilingual (English/Spanish) speaking preferred\r\n",
      "Working knowledge of international trade compliance and security issues, global political systems, economies, and security threats\r\n",
      "Previous work experience desired\r\n",
      "Candidates with interest in careers involving or impacting global supply chain security issues will be given primary considerationKnowledge of research and analysis techniques.\r\n",
      "Ability to effectively collect, analyze, summarize, interpret, and communicate information and technical data orally and in writing.\r\n",
      "Proficient knowledge of personal computers, Microsoft Office applications, and analytical application programs and software to produce GIS-based maps, text, tables, graphs, and charts.\r\n",
      "Proficient knowledge in open source research and analytical tools.\r\n",
      "Ability to apply critical thinking to diverse information sets and to produce logic-based analysis and recommendations on probable and potential trends and event outcomes.\r\n",
      "Demonstrated ability to maintain accurate and complete files, manage multiple priorities, and follow oral and written instructions.\r\n",
      "Demonstrated ability to establish and maintain effective working relationships with all levels of personnel and representatives of other agencies and organizations.\r\n",
      "Demonstrated ability to work semi-independently, establish priorities, and achieve high level results with limited direct supervision.\r\n",
      "Demonstrated ability to create and provide intelligence briefings for all levels of personnel.\r\n",
      "Public safety experience or other broad scope governmental experience desired.\r\n",
      "Must have a valid driver’s license, federal security clearance at least at the Secret level, and successfully pass Fairfax County PD background check, including fingerprinting, drug screening, and polygraph examination.Analytic Thinking, Problem Solving, CommunicationHighSchool/GED Training in SIGINT analysis with a minimum of 4 years SIGINT experience within the DoD or equivalent government agencies is required, with operational-level experience preferred. Knowledge of Army/Joint SIGINT procedures, data processing systems, and associated SIGINT databases/search engines is required. Proficiency in utilizing basic computer applications, mIRC, Jabber Chat, or other intelligence-related automation in support of analytic efforts and product development is required. Strong research and writing skills are required. Requires former 1N, 35S/P/N, 35B, 352N/P/Q/R/S, 18F, or equivalent.Leadership, Analytical Thinking, Interpersonal Skills, Oral and Written Communication, Organizing and Planning, Problem Solving experience working with IDS/IPS and SIEM Tools such as Splunk, Arcsight, Wireshark data analytics and metrics optimizationCritical Thinking \r\n",
      "Clear and Concise writing Threat, indications and warning, collection, analysis, and production and collaborating with other senior intelligence analysts, reporting and briefing within USPACOM/INDO-PAC AOR Intelligence Enterprise, the U.S. Intelligence Community, and the Interagency, Intelligence programs, asymmetric analysis, PACOM/JCS training events, and PACOM country(s) familiarization Knowledge of networking fundamentals Knowledge of software exploitationDesign and build queries, reports, and dashboards using business intelligence tools adhering to established frameworks and standards \r\n",
      "Champion a data-driven culture across the enterprise developing methods and controls to ensure consistent application and use of data \r\n",
      "Actively participate in and influence discussions around reporting requirements, infrastructure needs, and design \r\n",
      "Assess the effectiveness and accuracy of new data sources and data gathering techniques \r\n",
      "Develop custom data models and algorithms to apply to data sets We are looking to hire Data Scientists with at least 5 years of technical experience working with data and deploying analytical solutions. Qualified candidates must have a Bachelor’s of Science degree in a technical field. All applicants for cleared contracts must be a US citizen and have or be willing to apply for a Top Secret security clearance. Ideal candidates have technical skills and analytic tool experience in several of the following areas:\n",
      "Technical Areas: machine learning, predictive analytics, data mining, advanced analytics, statistics, workload prioritization, operations research, risk analysis, streaming analytics, anomaly detection, exploratory data analysis, ETL, event log processing, mathematical modeling, graph/network analysis, data visualization, text mining, data access, storage and retrieval\n",
      "Analytic Tools (or equivalent): R/Shiny, Python, SQL, IBM SPSS Modeler, Java, Pig, Spark, Oracle, RapidMiner, KNIME, Statistica, SAS, Matlab, Neo4j\n"
     ]
    }
   ],
   "source": [
    "\n",
    "skills =''\n",
    "for skill in df['Required Skills']:\n",
    "    skills = skill + skills\n",
    "print (skills)"
   ]
  },
  {
   "cell_type": "code",
   "execution_count": 52,
   "metadata": {},
   "outputs": [],
   "source": [
    "import xlwt        \n",
    "\n",
    "from collections import Counter        \n",
    "\n",
    "from nltk.corpus import stopwords\n",
    "\n",
    "stop = set(stopwords.words('english'))\n",
    "\n",
    "  \n",
    "\n",
    "book = xlwt.Workbook() # create a new excel file\n",
    "\n",
    "sheet_test = book.add_sheet('word_count') # add a new sheet\n",
    "\n",
    "i = 0\n",
    "\n",
    "sheet_test.write(i,0,'word') # write the header of the first column\n",
    "\n",
    "sheet_test.write(i,1,'count') # write the header of the second column\n",
    "\n",
    "sheet_test.write(i,2,'ratio') # write the header of the third column"
   ]
  },
  {
   "cell_type": "code",
   "execution_count": 53,
   "metadata": {},
   "outputs": [],
   "source": [
    "\n",
    "word_list = [i for i in skills.lower().split() if i not in stop]\n",
    "\n",
    "word_total = word_list.__len__()\n",
    "\n",
    "\n",
    "\n",
    "count_result =  Counter(word_list)\n",
    "\n",
    "for result in count_result.most_common(20):\n",
    "\n",
    "    i = i+1 \n",
    "\n",
    "    sheet_test.write(i,0,result[0])\n",
    "\n",
    "    sheet_test.write(i,1,result[1])\n",
    "\n",
    "    sheet_test.write(i,2,(result[1]/word_total))\n",
    "\n",
    "    \n",
    "\n",
    "book.save('skills.xls')# define the location of your excel file"
   ]
  },
  {
   "cell_type": "markdown",
   "metadata": {},
   "source": [
    "<img src=\"final_sheet2.png\">"
   ]
  },
  {
   "cell_type": "code",
   "execution_count": null,
   "metadata": {},
   "outputs": [],
   "source": []
  }
 ],
 "metadata": {
  "kernelspec": {
   "display_name": "Python 3",
   "language": "python",
   "name": "python3"
  },
  "language_info": {
   "codemirror_mode": {
    "name": "ipython",
    "version": 3
   },
   "file_extension": ".py",
   "mimetype": "text/x-python",
   "name": "python",
   "nbconvert_exporter": "python",
   "pygments_lexer": "ipython3",
   "version": "3.6.5"
  }
 },
 "nbformat": 4,
 "nbformat_minor": 2
}
